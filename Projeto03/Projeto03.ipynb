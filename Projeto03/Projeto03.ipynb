{
 "cells": [
  {
   "cell_type": "markdown",
   "id": "cfe425e4",
   "metadata": {},
   "source": [
    "# <font color='blue'>Data Science Academy</font> \n",
    "\n",
    "# <font color='blue'>Big Data Real-Time Analytics Com Python e Spark - Versão 3.0</font>\n",
    "\n",
    "\n",
    "## Projeto com Feedback 3: Análise de Risco no Transporte Público"
   ]
  },
  {
   "cell_type": "markdown",
   "id": "28b7f363",
   "metadata": {},
   "source": [
    "O conjunto de dados a seguir lista incidentes de trânsito ocorridos na cidade de \n",
    "Londres.\n",
    "\n",
    "Este dataset é público e poder ser encontrado no link: https://data.world/makeovermonday/2018w51\n",
    "\n",
    "Neste trabalho, será feita a analise dos dados e construídos gráficos que respondam a essas \n",
    "10 perguntas abaixo:\n",
    "\n",
    "1. Qual a quantidade de incidentes por gênero?\n",
    "2. Qual faixa etária esteve mais envolvida nos incidentes?\n",
    "3. Qual o percentual de incidentes por tipo de evento (Incident Event Type)?\n",
    "4. Como foi a evolução de incidentes por mês ao longo do tempo?\n",
    "5. Quando o incidente foi “Collision Incident” em qual mês houve o maior número de incidentes envolvendo pessoas do sexo feminino?\n",
    "6. Qual foi a média de incidentes por mês envolvendo crianças (Child)?\n",
    "7. Considerando a descrição de incidente como “Injuries treated on scene” (coluna Injury Result Description), qual o total de incidentes de pessoas do sexo masculino e sexo feminino?\n",
    "8. No ano de 2017 em qual mês houve mais incidentes com idosos (Elderly)?\n",
    "9. Considerando o Operador qual a distribuição de incidentes ao longo do tempo?\n",
    "10. Qual o tipo de incidente mais comum com ciclistas?\n"
   ]
  },
  {
   "cell_type": "markdown",
   "id": "b7f7bfc3",
   "metadata": {},
   "source": [
    "Este trabalho vista fazer a análise exploratória dos dados suficiente para que sejam respondidas estas perguntas. Não será feito tratamento dos dados no sentido de criação de um modelo de predição.\n",
    "\n",
    "*Obs.: Foi utilizado como sugestão de roteiro deste projeto os roteiros desenvolvidos em aulas.*"
   ]
  },
  {
   "cell_type": "code",
   "execution_count": 1,
   "id": "7f61496f",
   "metadata": {},
   "outputs": [
    {
     "name": "stdout",
     "output_type": "stream",
     "text": [
      "Versão da Linguagem Python Usada Neste Jupyter Notebook: 3.11.4\n"
     ]
    }
   ],
   "source": [
    "# Versão da Linguagem Python\n",
    "from platform import python_version\n",
    "print('Versão da Linguagem Python Usada Neste Jupyter Notebook:', python_version())"
   ]
  },
  {
   "cell_type": "code",
   "execution_count": 2,
   "id": "978dbeff",
   "metadata": {},
   "outputs": [],
   "source": [
    "# Imports\n",
    "import numpy as np\n",
    "import pandas as pd\n",
    "import pandasql\n",
    "import matplotlib.pyplot as plt\n",
    "import seaborn as sns\n",
    "import warnings\n",
    "warnings.filterwarnings(\"ignore\")\n",
    "from pandasql import sqldf"
   ]
  },
  {
   "cell_type": "markdown",
   "id": "ed93d211",
   "metadata": {
    "id": "rjxJyGC8SUW_"
   },
   "source": [
    "## Carregando o Dataset"
   ]
  },
  {
   "cell_type": "code",
   "execution_count": 3,
   "id": "e3b4befe",
   "metadata": {
    "colab": {
     "base_uri": "https://localhost:8080/",
     "height": 488
    },
    "id": "JUw7Bgw7Ar8P",
    "outputId": "39e91e80-1054-4a8b-b171-fd5b12c26c7d"
   },
   "outputs": [],
   "source": [
    "# Carrega os dados\n",
    "df = pd.read_excel(\"makeovermonday-2018w51/TFL Bus Safety.xlsx\")"
   ]
  },
  {
   "cell_type": "code",
   "execution_count": 4,
   "id": "1de20a61",
   "metadata": {},
   "outputs": [
    {
     "data": {
      "text/plain": [
       "(23158, 12)"
      ]
     },
     "execution_count": 4,
     "metadata": {},
     "output_type": "execute_result"
    }
   ],
   "source": [
    "df.shape"
   ]
  },
  {
   "cell_type": "code",
   "execution_count": 5,
   "id": "e81ab411",
   "metadata": {
    "colab": {
     "base_uri": "https://localhost:8080/"
    },
    "id": "040bHYiGBBHe",
    "outputId": "eee48c30-6ff3-4306-fbdd-bfef74652dc4"
   },
   "outputs": [
    {
     "name": "stdout",
     "output_type": "stream",
     "text": [
      "<class 'pandas.core.frame.DataFrame'>\n",
      "RangeIndex: 23158 entries, 0 to 23157\n",
      "Data columns (total 12 columns):\n",
      " #   Column                     Non-Null Count  Dtype         \n",
      "---  ------                     --------------  -----         \n",
      " 0   Year                       23158 non-null  int64         \n",
      " 1   Date Of Incident           23158 non-null  datetime64[ns]\n",
      " 2   Route                      23158 non-null  object        \n",
      " 3   Operator                   23158 non-null  object        \n",
      " 4   Group Name                 23158 non-null  object        \n",
      " 5   Bus Garage                 23158 non-null  object        \n",
      " 6   Borough                    23158 non-null  object        \n",
      " 7   Injury Result Description  23158 non-null  object        \n",
      " 8   Incident Event Type        23158 non-null  object        \n",
      " 9   Victim Category            23158 non-null  object        \n",
      " 10  Victims Sex                23158 non-null  object        \n",
      " 11  Victims Age                23158 non-null  object        \n",
      "dtypes: datetime64[ns](1), int64(1), object(10)\n",
      "memory usage: 2.1+ MB\n"
     ]
    }
   ],
   "source": [
    "df.info()"
   ]
  },
  {
   "cell_type": "code",
   "execution_count": 6,
   "id": "61c79b54",
   "metadata": {},
   "outputs": [
    {
     "data": {
      "text/html": [
       "<div>\n",
       "<style scoped>\n",
       "    .dataframe tbody tr th:only-of-type {\n",
       "        vertical-align: middle;\n",
       "    }\n",
       "\n",
       "    .dataframe tbody tr th {\n",
       "        vertical-align: top;\n",
       "    }\n",
       "\n",
       "    .dataframe thead th {\n",
       "        text-align: right;\n",
       "    }\n",
       "</style>\n",
       "<table border=\"1\" class=\"dataframe\">\n",
       "  <thead>\n",
       "    <tr style=\"text-align: right;\">\n",
       "      <th></th>\n",
       "      <th>Year</th>\n",
       "      <th>Date Of Incident</th>\n",
       "      <th>Route</th>\n",
       "      <th>Operator</th>\n",
       "      <th>Group Name</th>\n",
       "      <th>Bus Garage</th>\n",
       "      <th>Borough</th>\n",
       "      <th>Injury Result Description</th>\n",
       "      <th>Incident Event Type</th>\n",
       "      <th>Victim Category</th>\n",
       "      <th>Victims Sex</th>\n",
       "      <th>Victims Age</th>\n",
       "    </tr>\n",
       "  </thead>\n",
       "  <tbody>\n",
       "    <tr>\n",
       "      <th>0</th>\n",
       "      <td>2015</td>\n",
       "      <td>2015-01-01</td>\n",
       "      <td>1</td>\n",
       "      <td>London General</td>\n",
       "      <td>Go-Ahead</td>\n",
       "      <td>Garage Not Available</td>\n",
       "      <td>Southwark</td>\n",
       "      <td>Injuries treated on scene</td>\n",
       "      <td>Onboard Injuries</td>\n",
       "      <td>Passenger</td>\n",
       "      <td>Male</td>\n",
       "      <td>Child</td>\n",
       "    </tr>\n",
       "    <tr>\n",
       "      <th>1</th>\n",
       "      <td>2015</td>\n",
       "      <td>2015-01-01</td>\n",
       "      <td>4</td>\n",
       "      <td>Metroline</td>\n",
       "      <td>Metroline</td>\n",
       "      <td>Garage Not Available</td>\n",
       "      <td>Islington</td>\n",
       "      <td>Injuries treated on scene</td>\n",
       "      <td>Onboard Injuries</td>\n",
       "      <td>Passenger</td>\n",
       "      <td>Male</td>\n",
       "      <td>Unknown</td>\n",
       "    </tr>\n",
       "    <tr>\n",
       "      <th>2</th>\n",
       "      <td>2015</td>\n",
       "      <td>2015-01-01</td>\n",
       "      <td>5</td>\n",
       "      <td>East London</td>\n",
       "      <td>Stagecoach</td>\n",
       "      <td>Garage Not Available</td>\n",
       "      <td>Havering</td>\n",
       "      <td>Taken to Hospital – Reported Serious Injury or...</td>\n",
       "      <td>Onboard Injuries</td>\n",
       "      <td>Passenger</td>\n",
       "      <td>Male</td>\n",
       "      <td>Elderly</td>\n",
       "    </tr>\n",
       "    <tr>\n",
       "      <th>3</th>\n",
       "      <td>2015</td>\n",
       "      <td>2015-01-01</td>\n",
       "      <td>5</td>\n",
       "      <td>East London</td>\n",
       "      <td>Stagecoach</td>\n",
       "      <td>Garage Not Available</td>\n",
       "      <td>None London Borough</td>\n",
       "      <td>Taken to Hospital – Reported Serious Injury or...</td>\n",
       "      <td>Onboard Injuries</td>\n",
       "      <td>Passenger</td>\n",
       "      <td>Male</td>\n",
       "      <td>Elderly</td>\n",
       "    </tr>\n",
       "    <tr>\n",
       "      <th>4</th>\n",
       "      <td>2015</td>\n",
       "      <td>2015-01-01</td>\n",
       "      <td>6</td>\n",
       "      <td>Metroline</td>\n",
       "      <td>Metroline</td>\n",
       "      <td>Garage Not Available</td>\n",
       "      <td>Westminster</td>\n",
       "      <td>Reported Minor Injury - Treated at Hospital</td>\n",
       "      <td>Onboard Injuries</td>\n",
       "      <td>Pedestrian</td>\n",
       "      <td>Female</td>\n",
       "      <td>Elderly</td>\n",
       "    </tr>\n",
       "  </tbody>\n",
       "</table>\n",
       "</div>"
      ],
      "text/plain": [
       "   Year Date Of Incident Route        Operator  Group Name  \\\n",
       "0  2015       2015-01-01     1  London General    Go-Ahead   \n",
       "1  2015       2015-01-01     4       Metroline   Metroline   \n",
       "2  2015       2015-01-01     5     East London  Stagecoach   \n",
       "3  2015       2015-01-01     5     East London  Stagecoach   \n",
       "4  2015       2015-01-01     6       Metroline   Metroline   \n",
       "\n",
       "             Bus Garage              Borough  \\\n",
       "0  Garage Not Available            Southwark   \n",
       "1  Garage Not Available            Islington   \n",
       "2  Garage Not Available             Havering   \n",
       "3  Garage Not Available  None London Borough   \n",
       "4  Garage Not Available          Westminster   \n",
       "\n",
       "                           Injury Result Description Incident Event Type  \\\n",
       "0                          Injuries treated on scene    Onboard Injuries   \n",
       "1                          Injuries treated on scene    Onboard Injuries   \n",
       "2  Taken to Hospital – Reported Serious Injury or...    Onboard Injuries   \n",
       "3  Taken to Hospital – Reported Serious Injury or...    Onboard Injuries   \n",
       "4        Reported Minor Injury - Treated at Hospital    Onboard Injuries   \n",
       "\n",
       "  Victim Category Victims Sex Victims Age  \n",
       "0       Passenger        Male       Child  \n",
       "1       Passenger        Male     Unknown  \n",
       "2       Passenger        Male     Elderly  \n",
       "3       Passenger        Male     Elderly  \n",
       "4      Pedestrian      Female     Elderly  "
      ]
     },
     "execution_count": 6,
     "metadata": {},
     "output_type": "execute_result"
    }
   ],
   "source": [
    "df.head(5)"
   ]
  },
  {
   "cell_type": "code",
   "execution_count": 7,
   "id": "d9254e5f",
   "metadata": {
    "colab": {
     "base_uri": "https://localhost:8080/",
     "height": 270
    },
    "id": "fzSoY1M6BIsF",
    "outputId": "f23437a5-c57d-42d3-efa7-a91e48721d69"
   },
   "outputs": [
    {
     "data": {
      "text/html": [
       "<div>\n",
       "<style scoped>\n",
       "    .dataframe tbody tr th:only-of-type {\n",
       "        vertical-align: middle;\n",
       "    }\n",
       "\n",
       "    .dataframe tbody tr th {\n",
       "        vertical-align: top;\n",
       "    }\n",
       "\n",
       "    .dataframe thead th {\n",
       "        text-align: right;\n",
       "    }\n",
       "</style>\n",
       "<table border=\"1\" class=\"dataframe\">\n",
       "  <thead>\n",
       "    <tr style=\"text-align: right;\">\n",
       "      <th></th>\n",
       "      <th>Year</th>\n",
       "      <th>Date Of Incident</th>\n",
       "      <th>Route</th>\n",
       "      <th>Operator</th>\n",
       "      <th>Group Name</th>\n",
       "      <th>Bus Garage</th>\n",
       "      <th>Borough</th>\n",
       "      <th>Injury Result Description</th>\n",
       "      <th>Incident Event Type</th>\n",
       "      <th>Victim Category</th>\n",
       "      <th>Victims Sex</th>\n",
       "      <th>Victims Age</th>\n",
       "    </tr>\n",
       "  </thead>\n",
       "  <tbody>\n",
       "    <tr>\n",
       "      <th>5109</th>\n",
       "      <td>2015</td>\n",
       "      <td>2015-11-01</td>\n",
       "      <td>358</td>\n",
       "      <td>Metrobus</td>\n",
       "      <td>Go-Ahead</td>\n",
       "      <td>Garage Not Available</td>\n",
       "      <td>Bromley</td>\n",
       "      <td>Injuries treated on scene</td>\n",
       "      <td>Onboard Injuries</td>\n",
       "      <td>Passenger</td>\n",
       "      <td>Female</td>\n",
       "      <td>Adult</td>\n",
       "    </tr>\n",
       "    <tr>\n",
       "      <th>18008</th>\n",
       "      <td>2017</td>\n",
       "      <td>2017-12-01</td>\n",
       "      <td>94</td>\n",
       "      <td>London United</td>\n",
       "      <td>London United</td>\n",
       "      <td>Shepherds Bush</td>\n",
       "      <td>Hammersmith &amp; Fulham</td>\n",
       "      <td>Injuries treated on scene</td>\n",
       "      <td>Slip Trip Fall</td>\n",
       "      <td>Passenger</td>\n",
       "      <td>Female</td>\n",
       "      <td>Adult</td>\n",
       "    </tr>\n",
       "    <tr>\n",
       "      <th>10966</th>\n",
       "      <td>2016</td>\n",
       "      <td>2016-02-01</td>\n",
       "      <td>55</td>\n",
       "      <td>East London</td>\n",
       "      <td>Stagecoach</td>\n",
       "      <td>Garage Not Available</td>\n",
       "      <td>Waltham Forest</td>\n",
       "      <td>Reported Minor Injury - Treated at Hospital</td>\n",
       "      <td>Assault</td>\n",
       "      <td>Bus Driver</td>\n",
       "      <td>Male</td>\n",
       "      <td>Adult</td>\n",
       "    </tr>\n",
       "    <tr>\n",
       "      <th>21213</th>\n",
       "      <td>2018</td>\n",
       "      <td>2018-06-01</td>\n",
       "      <td>79</td>\n",
       "      <td>Metroline</td>\n",
       "      <td>Metroline</td>\n",
       "      <td>Perivale</td>\n",
       "      <td>Brent</td>\n",
       "      <td>Injuries treated on scene</td>\n",
       "      <td>Personal Injury</td>\n",
       "      <td>Passenger</td>\n",
       "      <td>Female</td>\n",
       "      <td>Elderly</td>\n",
       "    </tr>\n",
       "    <tr>\n",
       "      <th>18158</th>\n",
       "      <td>2017</td>\n",
       "      <td>2017-12-01</td>\n",
       "      <td>253</td>\n",
       "      <td>Arriva London North</td>\n",
       "      <td>Arriva London</td>\n",
       "      <td>Stamford Hill</td>\n",
       "      <td>Hackney</td>\n",
       "      <td>Injuries treated on scene</td>\n",
       "      <td>Slip Trip Fall</td>\n",
       "      <td>Passenger</td>\n",
       "      <td>Male</td>\n",
       "      <td>Unknown</td>\n",
       "    </tr>\n",
       "  </tbody>\n",
       "</table>\n",
       "</div>"
      ],
      "text/plain": [
       "       Year Date Of Incident Route             Operator     Group Name  \\\n",
       "5109   2015       2015-11-01   358             Metrobus       Go-Ahead   \n",
       "18008  2017       2017-12-01    94        London United  London United   \n",
       "10966  2016       2016-02-01    55          East London     Stagecoach   \n",
       "21213  2018       2018-06-01    79            Metroline      Metroline   \n",
       "18158  2017       2017-12-01   253  Arriva London North  Arriva London   \n",
       "\n",
       "                 Bus Garage               Borough  \\\n",
       "5109   Garage Not Available               Bromley   \n",
       "18008        Shepherds Bush  Hammersmith & Fulham   \n",
       "10966  Garage Not Available        Waltham Forest   \n",
       "21213              Perivale                 Brent   \n",
       "18158         Stamford Hill               Hackney   \n",
       "\n",
       "                         Injury Result Description Incident Event Type  \\\n",
       "5109                     Injuries treated on scene    Onboard Injuries   \n",
       "18008                    Injuries treated on scene      Slip Trip Fall   \n",
       "10966  Reported Minor Injury - Treated at Hospital             Assault   \n",
       "21213                    Injuries treated on scene     Personal Injury   \n",
       "18158                    Injuries treated on scene      Slip Trip Fall   \n",
       "\n",
       "      Victim Category Victims Sex Victims Age  \n",
       "5109        Passenger      Female       Adult  \n",
       "18008       Passenger      Female       Adult  \n",
       "10966      Bus Driver        Male       Adult  \n",
       "21213       Passenger      Female     Elderly  \n",
       "18158       Passenger        Male     Unknown  "
      ]
     },
     "execution_count": 7,
     "metadata": {},
     "output_type": "execute_result"
    }
   ],
   "source": [
    "df.sample(5)"
   ]
  },
  {
   "cell_type": "code",
   "execution_count": 8,
   "id": "233fe144",
   "metadata": {},
   "outputs": [
    {
     "data": {
      "text/html": [
       "<div>\n",
       "<style scoped>\n",
       "    .dataframe tbody tr th:only-of-type {\n",
       "        vertical-align: middle;\n",
       "    }\n",
       "\n",
       "    .dataframe tbody tr th {\n",
       "        vertical-align: top;\n",
       "    }\n",
       "\n",
       "    .dataframe thead th {\n",
       "        text-align: right;\n",
       "    }\n",
       "</style>\n",
       "<table border=\"1\" class=\"dataframe\">\n",
       "  <thead>\n",
       "    <tr style=\"text-align: right;\">\n",
       "      <th></th>\n",
       "      <th>Year</th>\n",
       "      <th>Date Of Incident</th>\n",
       "      <th>Route</th>\n",
       "      <th>Operator</th>\n",
       "      <th>Group Name</th>\n",
       "      <th>Bus Garage</th>\n",
       "      <th>Borough</th>\n",
       "      <th>Injury Result Description</th>\n",
       "      <th>Incident Event Type</th>\n",
       "      <th>Victim Category</th>\n",
       "      <th>Victims Sex</th>\n",
       "      <th>Victims Age</th>\n",
       "    </tr>\n",
       "  </thead>\n",
       "  <tbody>\n",
       "    <tr>\n",
       "      <th>23153</th>\n",
       "      <td>2018</td>\n",
       "      <td>2018-09-01</td>\n",
       "      <td>(blank)</td>\n",
       "      <td>East London</td>\n",
       "      <td>Stagecoach</td>\n",
       "      <td>West Ham</td>\n",
       "      <td>Newham</td>\n",
       "      <td>Injuries treated on scene</td>\n",
       "      <td>Personal Injury</td>\n",
       "      <td>Bus Driver</td>\n",
       "      <td>Male</td>\n",
       "      <td>Adult</td>\n",
       "    </tr>\n",
       "    <tr>\n",
       "      <th>23154</th>\n",
       "      <td>2018</td>\n",
       "      <td>2018-09-01</td>\n",
       "      <td>(blank)</td>\n",
       "      <td>London United</td>\n",
       "      <td>London United</td>\n",
       "      <td>Hounslow</td>\n",
       "      <td>Not specified</td>\n",
       "      <td>Injuries treated on scene</td>\n",
       "      <td>Personal Injury</td>\n",
       "      <td>Bus Driver</td>\n",
       "      <td>Male</td>\n",
       "      <td>Adult</td>\n",
       "    </tr>\n",
       "    <tr>\n",
       "      <th>23155</th>\n",
       "      <td>2018</td>\n",
       "      <td>2018-09-01</td>\n",
       "      <td>(blank)</td>\n",
       "      <td>London United</td>\n",
       "      <td>London United</td>\n",
       "      <td>Park Royal</td>\n",
       "      <td>Harrow</td>\n",
       "      <td>Injuries treated on scene</td>\n",
       "      <td>Slip Trip Fall</td>\n",
       "      <td>Operational Staff</td>\n",
       "      <td>Male</td>\n",
       "      <td>Adult</td>\n",
       "    </tr>\n",
       "    <tr>\n",
       "      <th>23156</th>\n",
       "      <td>2018</td>\n",
       "      <td>2018-09-01</td>\n",
       "      <td>(blank)</td>\n",
       "      <td>London United</td>\n",
       "      <td>London United</td>\n",
       "      <td>Shepherds Bush</td>\n",
       "      <td>Hammersmith &amp; Fulham</td>\n",
       "      <td>Injuries treated on scene</td>\n",
       "      <td>Personal Injury</td>\n",
       "      <td>Bus Driver</td>\n",
       "      <td>Male</td>\n",
       "      <td>Adult</td>\n",
       "    </tr>\n",
       "    <tr>\n",
       "      <th>23157</th>\n",
       "      <td>2018</td>\n",
       "      <td>2018-09-01</td>\n",
       "      <td>(blank)</td>\n",
       "      <td>Metroline</td>\n",
       "      <td>Metroline</td>\n",
       "      <td>Holloway</td>\n",
       "      <td>Islington</td>\n",
       "      <td>Injuries treated on scene</td>\n",
       "      <td>Personal Injury</td>\n",
       "      <td>Other</td>\n",
       "      <td>Unknown</td>\n",
       "      <td>Unknown</td>\n",
       "    </tr>\n",
       "  </tbody>\n",
       "</table>\n",
       "</div>"
      ],
      "text/plain": [
       "       Year Date Of Incident    Route       Operator     Group Name  \\\n",
       "23153  2018       2018-09-01  (blank)    East London     Stagecoach   \n",
       "23154  2018       2018-09-01  (blank)  London United  London United   \n",
       "23155  2018       2018-09-01  (blank)  London United  London United   \n",
       "23156  2018       2018-09-01  (blank)  London United  London United   \n",
       "23157  2018       2018-09-01  (blank)      Metroline      Metroline   \n",
       "\n",
       "           Bus Garage               Borough  Injury Result Description  \\\n",
       "23153        West Ham                Newham  Injuries treated on scene   \n",
       "23154        Hounslow         Not specified  Injuries treated on scene   \n",
       "23155      Park Royal                Harrow  Injuries treated on scene   \n",
       "23156  Shepherds Bush  Hammersmith & Fulham  Injuries treated on scene   \n",
       "23157        Holloway             Islington  Injuries treated on scene   \n",
       "\n",
       "      Incident Event Type    Victim Category Victims Sex Victims Age  \n",
       "23153     Personal Injury         Bus Driver        Male       Adult  \n",
       "23154     Personal Injury         Bus Driver        Male       Adult  \n",
       "23155      Slip Trip Fall  Operational Staff        Male       Adult  \n",
       "23156     Personal Injury         Bus Driver        Male       Adult  \n",
       "23157     Personal Injury              Other     Unknown     Unknown  "
      ]
     },
     "execution_count": 8,
     "metadata": {},
     "output_type": "execute_result"
    }
   ],
   "source": [
    "df.tail(5)"
   ]
  },
  {
   "cell_type": "markdown",
   "id": "70c6dec4",
   "metadata": {},
   "source": [
    "## EDA - Parte 1"
   ]
  },
  {
   "cell_type": "markdown",
   "id": "73f7dc26",
   "metadata": {},
   "source": [
    "### Separação das Variáveis Categóricas e Numéricas"
   ]
  },
  {
   "cell_type": "code",
   "execution_count": 9,
   "id": "c452d058",
   "metadata": {},
   "outputs": [
    {
     "data": {
      "text/plain": [
       "Index(['Year', 'Date Of Incident', 'Route', 'Operator', 'Group Name',\n",
       "       'Bus Garage', 'Borough', 'Injury Result Description',\n",
       "       'Incident Event Type', 'Victim Category', 'Victims Sex', 'Victims Age'],\n",
       "      dtype='object')"
      ]
     },
     "execution_count": 9,
     "metadata": {},
     "output_type": "execute_result"
    }
   ],
   "source": [
    "df.columns"
   ]
  },
  {
   "cell_type": "code",
   "execution_count": 10,
   "id": "94bd7d66",
   "metadata": {},
   "outputs": [
    {
     "data": {
      "text/plain": [
       "Year                                  int64\n",
       "Date Of Incident             datetime64[ns]\n",
       "Route                                object\n",
       "Operator                             object\n",
       "Group Name                           object\n",
       "Bus Garage                           object\n",
       "Borough                              object\n",
       "Injury Result Description            object\n",
       "Incident Event Type                  object\n",
       "Victim Category                      object\n",
       "Victims Sex                          object\n",
       "Victims Age                          object\n",
       "dtype: object"
      ]
     },
     "execution_count": 10,
     "metadata": {},
     "output_type": "execute_result"
    }
   ],
   "source": [
    "df.dtypes"
   ]
  },
  {
   "cell_type": "code",
   "execution_count": 11,
   "id": "8366cc81",
   "metadata": {
    "id": "eEj5iWMrCPLU"
   },
   "outputs": [],
   "source": [
    "# Lista de colunas categóricas\n",
    "cats = ['Year', 'Route', 'Operator', 'Group Name',\n",
    "       'Bus Garage', 'Borough', 'Injury Result Description',\n",
    "       'Incident Event Type', 'Victim Category', 'Victims Sex', 'Victims Age']"
   ]
  },
  {
   "cell_type": "markdown",
   "id": "8a78a345",
   "metadata": {},
   "source": [
    "Observações:\n",
    "\n",
    "Neste projeto não há variáveis numéricas. Apesar de haverem números na variável `Year`, estes serão tratados como categorias.\n",
    "\n",
    "A variável `Date Of Incident` serve como referência temporal. Dela poderemos extrair os meses para auxiliar na visualização dos dados."
   ]
  },
  {
   "cell_type": "code",
   "execution_count": 12,
   "id": "50f7bfc0",
   "metadata": {},
   "outputs": [],
   "source": [
    "# Transformando variáveis categórias em tipo 'Category' do Pandas\n",
    "for col in cats:\n",
    "    df[col] = df[col].astype('category')"
   ]
  },
  {
   "cell_type": "code",
   "execution_count": 13,
   "id": "c3951e21",
   "metadata": {},
   "outputs": [],
   "source": [
    "# Convertendo variável Year em string para ser tratada como Category\n",
    "df.Year = df.Year.astype(\"str\")"
   ]
  },
  {
   "cell_type": "markdown",
   "id": "e1a93177",
   "metadata": {
    "id": "SXaUkBHSDA5m"
   },
   "source": [
    "Algumas observações:\n",
    "\n",
    "1. Os incidentes registrados neste dataset terminam em 01/09/2018, portanto é esperado haver número reduzido de incidentes em 2018.\n",
    "\n",
    "2. Percebe-se um aumento de incidentes registrados ao longo dos anos, com exceção de 2018 como explicado acima."
   ]
  },
  {
   "cell_type": "markdown",
   "id": "82125245",
   "metadata": {},
   "source": [
    "### Explorando as Variáveis Categóricas"
   ]
  },
  {
   "cell_type": "code",
   "execution_count": 14,
   "id": "1d0fe99a",
   "metadata": {
    "colab": {
     "base_uri": "https://localhost:8080/",
     "height": 175
    },
    "id": "K0TNVByhGkmj",
    "outputId": "7c9b2171-eb5e-4e19-cbb4-2664be6afdfd",
    "scrolled": true
   },
   "outputs": [
    {
     "data": {
      "text/html": [
       "<div>\n",
       "<style scoped>\n",
       "    .dataframe tbody tr th:only-of-type {\n",
       "        vertical-align: middle;\n",
       "    }\n",
       "\n",
       "    .dataframe tbody tr th {\n",
       "        vertical-align: top;\n",
       "    }\n",
       "\n",
       "    .dataframe thead th {\n",
       "        text-align: right;\n",
       "    }\n",
       "</style>\n",
       "<table border=\"1\" class=\"dataframe\">\n",
       "  <thead>\n",
       "    <tr style=\"text-align: right;\">\n",
       "      <th></th>\n",
       "      <th>Year</th>\n",
       "      <th>Route</th>\n",
       "      <th>Operator</th>\n",
       "      <th>Group Name</th>\n",
       "      <th>Bus Garage</th>\n",
       "      <th>Borough</th>\n",
       "      <th>Injury Result Description</th>\n",
       "      <th>Incident Event Type</th>\n",
       "      <th>Victim Category</th>\n",
       "      <th>Victims Sex</th>\n",
       "      <th>Victims Age</th>\n",
       "    </tr>\n",
       "  </thead>\n",
       "  <tbody>\n",
       "    <tr>\n",
       "      <th>count</th>\n",
       "      <td>23158</td>\n",
       "      <td>23158</td>\n",
       "      <td>23158</td>\n",
       "      <td>23158</td>\n",
       "      <td>23158</td>\n",
       "      <td>23158</td>\n",
       "      <td>23158</td>\n",
       "      <td>23158</td>\n",
       "      <td>23158</td>\n",
       "      <td>23158</td>\n",
       "      <td>23158</td>\n",
       "    </tr>\n",
       "    <tr>\n",
       "      <th>unique</th>\n",
       "      <td>4</td>\n",
       "      <td>612</td>\n",
       "      <td>25</td>\n",
       "      <td>14</td>\n",
       "      <td>84</td>\n",
       "      <td>35</td>\n",
       "      <td>4</td>\n",
       "      <td>10</td>\n",
       "      <td>17</td>\n",
       "      <td>3</td>\n",
       "      <td>5</td>\n",
       "    </tr>\n",
       "    <tr>\n",
       "      <th>top</th>\n",
       "      <td>2017</td>\n",
       "      <td>OOS</td>\n",
       "      <td>Metroline</td>\n",
       "      <td>Arriva London</td>\n",
       "      <td>Garage Not Available</td>\n",
       "      <td>Westminster</td>\n",
       "      <td>Injuries treated on scene</td>\n",
       "      <td>Slip Trip Fall</td>\n",
       "      <td>Passenger</td>\n",
       "      <td>Female</td>\n",
       "      <td>Adult</td>\n",
       "    </tr>\n",
       "    <tr>\n",
       "      <th>freq</th>\n",
       "      <td>6573</td>\n",
       "      <td>321</td>\n",
       "      <td>3457</td>\n",
       "      <td>4945</td>\n",
       "      <td>8572</td>\n",
       "      <td>1571</td>\n",
       "      <td>17336</td>\n",
       "      <td>6981</td>\n",
       "      <td>18828</td>\n",
       "      <td>11847</td>\n",
       "      <td>10754</td>\n",
       "    </tr>\n",
       "  </tbody>\n",
       "</table>\n",
       "</div>"
      ],
      "text/plain": [
       "         Year  Route   Operator     Group Name            Bus Garage  \\\n",
       "count   23158  23158      23158          23158                 23158   \n",
       "unique      4    612         25             14                    84   \n",
       "top      2017    OOS  Metroline  Arriva London  Garage Not Available   \n",
       "freq     6573    321       3457           4945                  8572   \n",
       "\n",
       "            Borough  Injury Result Description Incident Event Type  \\\n",
       "count         23158                      23158               23158   \n",
       "unique           35                          4                  10   \n",
       "top     Westminster  Injuries treated on scene      Slip Trip Fall   \n",
       "freq           1571                      17336                6981   \n",
       "\n",
       "       Victim Category Victims Sex Victims Age  \n",
       "count            23158       23158       23158  \n",
       "unique              17           3           5  \n",
       "top          Passenger      Female       Adult  \n",
       "freq             18828       11847       10754  "
      ]
     },
     "execution_count": 14,
     "metadata": {},
     "output_type": "execute_result"
    }
   ],
   "source": [
    "# Resumo das variáveis categóricas\n",
    "df[cats].describe()"
   ]
  },
  {
   "cell_type": "markdown",
   "id": "e2de1a82",
   "metadata": {
    "id": "tUzIrGb5Gu1A"
   },
   "source": [
    "Algumas observações de variáveis mais relevantes:\n",
    "\n",
    "* Para a variável `Year` **2017** é a classe dominante.\n",
    "* Para a variável `Operator` **Metroline** é a classe dominante.\n",
    "* Para a variável `Injury Result Description`, **Injuries treated on scene** é a classe dominante.\n",
    "* Para a variável `Incident Event Type`, **Slip Trip Fall** é a classe dominante.\n",
    "* Para a variável `Victims Category`, **Passenger** é a classe dominante.\n",
    "* Para a variável `Victims Sex`, **Female** é a classe dominante.\n",
    "* Para a variável `Victims Age`, **Adult** é a classe dominante.\n",
    "* Os valores únicos para cada categoria variam bastante, sendo entre **3 e 612 valores únicos**"
   ]
  },
  {
   "cell_type": "code",
   "execution_count": 15,
   "id": "42ee7fff",
   "metadata": {
    "scrolled": false
   },
   "outputs": [
    {
     "name": "stdout",
     "output_type": "stream",
     "text": [
      "Total de Registros Por Categoria da Variável \"Year\"\n",
      "Até os 5 primeiros itens:\n",
      "Year\n",
      "2017    6573\n",
      "2016    6093\n",
      "2015    5715\n",
      "2018    4777\n",
      "Name: count, dtype: int64\n",
      "\n",
      "Total de Registros Por Categoria da Variável \"Route\"\n",
      "Até os 5 primeiros itens:\n",
      "Route\n",
      "OOS    321\n",
      "18     191\n",
      "55     177\n",
      "24     165\n",
      "73     156\n",
      "Name: count, dtype: int64\n",
      "\n",
      "Total de Registros Por Categoria da Variável \"Operator\"\n",
      "Até os 5 primeiros itens:\n",
      "Operator\n",
      "Metroline              3457\n",
      "Arriva London North    3208\n",
      "East London            2402\n",
      "London United          2263\n",
      "Selkent                1808\n",
      "Name: count, dtype: int64\n",
      "\n",
      "Total de Registros Por Categoria da Variável \"Group Name\"\n",
      "Até os 5 primeiros itens:\n",
      "Group Name\n",
      "Arriva London    4945\n",
      "Metroline        4690\n",
      "Go-Ahead         4258\n",
      "Stagecoach       4192\n",
      "London United    2469\n",
      "Name: count, dtype: int64\n",
      "\n",
      "Total de Registros Por Categoria da Variável \"Bus Garage\"\n",
      "Até os 5 primeiros itens:\n",
      "Bus Garage\n",
      "Garage Not Available    8572\n",
      "Plumstead                570\n",
      "Holloway                 448\n",
      "Cricklewood              401\n",
      "Tottenham                397\n",
      "Name: count, dtype: int64\n",
      "\n",
      "Total de Registros Por Categoria da Variável \"Borough\"\n",
      "Até os 5 primeiros itens:\n",
      "Borough\n",
      "Westminster    1571\n",
      "Southwark      1107\n",
      "Lambeth        1107\n",
      "Croydon        1032\n",
      "Lewisham       1006\n",
      "Name: count, dtype: int64\n",
      "\n",
      "Total de Registros Por Categoria da Variável \"Injury Result Description\"\n",
      "Até os 5 primeiros itens:\n",
      "Injury Result Description\n",
      "Injuries treated on scene                                          17336\n",
      "Taken to Hospital – Reported Serious Injury or Severity Unknown     2994\n",
      "Reported Minor Injury - Treated at Hospital                         2786\n",
      "Fatal                                                                 42\n",
      "Name: count, dtype: int64\n",
      "\n",
      "Total de Registros Por Categoria da Variável \"Incident Event Type\"\n",
      "Até os 5 primeiros itens:\n",
      "Incident Event Type\n",
      "Slip Trip Fall        6981\n",
      "Onboard Injuries      6563\n",
      "Personal Injury       4596\n",
      "Collision Incident    4166\n",
      "Assault                590\n",
      "Name: count, dtype: int64\n",
      "\n",
      "Total de Registros Por Categoria da Variável \"Victim Category\"\n",
      "Até os 5 primeiros itens:\n",
      "Victim Category\n",
      "Passenger                      18828\n",
      "Pedestrian                      1612\n",
      "Bus Driver                      1484\n",
      "3rd Party driver / Occupant      573\n",
      "Cyclist                          275\n",
      "Name: count, dtype: int64\n",
      "\n",
      "Total de Registros Por Categoria da Variável \"Victims Sex\"\n",
      "Até os 5 primeiros itens:\n",
      "Victims Sex\n",
      "Female     11847\n",
      "Male        7709\n",
      "Unknown     3602\n",
      "Name: count, dtype: int64\n",
      "\n",
      "Total de Registros Por Categoria da Variável \"Victims Age\"\n",
      "Até os 5 primeiros itens:\n",
      "Victims Age\n",
      "Adult      10754\n",
      "Unknown     7135\n",
      "Elderly     2769\n",
      "Child       2181\n",
      "Youth        319\n",
      "Name: count, dtype: int64\n",
      "\n"
     ]
    }
   ],
   "source": [
    "# Listando o total por categoria de cada variável categórica\n",
    "for col in cats:\n",
    "    print(f'''Total de Registros Por Categoria da Variável \"{col}\"''')\n",
    "    print('Até os 5 primeiros itens:')\n",
    "    print(df[col].value_counts().head(5))\n",
    "    print()"
   ]
  },
  {
   "cell_type": "markdown",
   "id": "e60a46c9",
   "metadata": {},
   "source": [
    "### Análise Univariada - Count Plot (Categorical)"
   ]
  },
  {
   "cell_type": "markdown",
   "id": "275a2a6d",
   "metadata": {},
   "source": [
    "Gráficos countplot de algumas colunas.\n",
    "\n",
    "As outras colunas foram deixadas de fora por possuírem muitas categorias, o que poluiria os gráficos, ou por não terem informação aparentemente relevante (ex.: `Route`, `Operator`, etc)."
   ]
  },
  {
   "cell_type": "code",
   "execution_count": 16,
   "id": "bc16a040",
   "metadata": {
    "scrolled": false
   },
   "outputs": [
    {
     "data": {
      "image/png": "[encoded data removed]",
      "text/plain": [
       "<Figure size 1200x200 with 1 Axes>"
      ]
     },
     "metadata": {},
     "output_type": "display_data"
    }
   ],
   "source": [
    "plt.figure(figsize = (12, 2))\n",
    "ax = sns.countplot(data = df, x = 'Year')\n",
    "ax.bar_label(ax.containers[0])\n",
    "plt.title('Ano', fontsize=16)\n",
    "plt.xlabel('')\n",
    "plt.ylabel('')\n",
    "plt.ylim(4500,7000);"
   ]
  },
  {
   "cell_type": "markdown",
   "id": "a8d66311",
   "metadata": {},
   "source": [
    "É observado um aumento no número de incidentes registrados ao longo dos anos.\n",
    "\n",
    "Importante atentar que 2018 não teve registros até o final do ano, portanto é justificável que seu número seja menor."
   ]
  },
  {
   "cell_type": "code",
   "execution_count": 17,
   "id": "eb2361dc",
   "metadata": {
    "scrolled": false
   },
   "outputs": [
    {
     "data": {
      "image/png": "[encoded data removed]",
      "text/plain": [
       "<Figure size 1200x400 with 1 Axes>"
      ]
     },
     "metadata": {},
     "output_type": "display_data"
    }
   ],
   "source": [
    "plt.figure(figsize = (12, 4))\n",
    "ax = sns.countplot(data = df, x = 'Injury Result Description')\n",
    "ax.bar_label(ax.containers[0])\n",
    "plt.title('Descrição do Resultado da Lesão', fontsize=16)\n",
    "plt.xlabel('')\n",
    "plt.ylabel('')\n",
    "ax.set_xticklabels(['Fatal', 'Lesões tratadas\\nno local', 'Lesão Leve Relatada\\nTratada no Hospital', 'Levado ao hospital\\nLesão grave relatada ou\\ngravidade desconhecida'])\n",
    "plt.ylim(0, 19000);"
   ]
  },
  {
   "cell_type": "markdown",
   "id": "f7d73208",
   "metadata": {},
   "source": [
    "Percebe-se que 42 dos incidentes foram fatais no período entre 2015 e 2018.\n",
    "\n",
    "A maioria dos incidentes foram tratados no local."
   ]
  },
  {
   "cell_type": "code",
   "execution_count": 18,
   "id": "a1b2addf",
   "metadata": {},
   "outputs": [
    {
     "data": {
      "image/png": "[encoded data removed]",
      "text/plain": [
       "<Figure size 1200x400 with 1 Axes>"
      ]
     },
     "metadata": {},
     "output_type": "display_data"
    }
   ],
   "source": [
    "plt.figure(figsize = (12, 4))\n",
    "ax = sns.countplot(data = df, x = 'Victims Sex')\n",
    "ax.bar_label(ax.containers[0])\n",
    "ax.set_xticklabels(['Feminino', 'Masculino', 'Desconhecido'])\n",
    "plt.title('Sexo das Vítimas', fontsize=16)\n",
    "plt.xlabel('')\n",
    "plt.ylabel('')\n",
    "plt.ylim(2000, 13000);"
   ]
  },
  {
   "cell_type": "markdown",
   "id": "c746b891",
   "metadata": {},
   "source": [
    "O sexo predominante nos incidentes é o **Feminino**."
   ]
  },
  {
   "cell_type": "code",
   "execution_count": 19,
   "id": "024d100a",
   "metadata": {
    "scrolled": false
   },
   "outputs": [
    {
     "data": {
      "image/png": "[encoded data removed]",
      "text/plain": [
       "<Figure size 1200x400 with 1 Axes>"
      ]
     },
     "metadata": {},
     "output_type": "display_data"
    }
   ],
   "source": [
    "plt.figure(figsize = (12, 4))\n",
    "ax = sns.countplot(data = df, x = 'Victims Age')\n",
    "ax.bar_label(ax.containers[0])\n",
    "ax.set_xticklabels(['Adulto', 'Criança', 'Idoso', 'Desconhecido', 'Jovem'])\n",
    "plt.title('Idade das Vítimas', fontsize=16)\n",
    "plt.xlabel('')\n",
    "plt.ylabel('')\n",
    "plt.ylim(0, 12000);"
   ]
  },
  {
   "cell_type": "markdown",
   "id": "de3f814d",
   "metadata": {},
   "source": [
    "A maioria das vítimas é da idade **Adulta**.\n",
    "\n",
    "Percebe-se um número relevante de registros dados como sexo **Desconhecido**, algo a ser melhorado no processo de registro."
   ]
  },
  {
   "cell_type": "markdown",
   "id": "29ed8707",
   "metadata": {},
   "source": [
    "## EDA - Parte 2\n",
    "\n",
    "### Respondendo às Perguntas Enunciadas"
   ]
  },
  {
   "cell_type": "markdown",
   "id": "a1ccc5a1",
   "metadata": {},
   "source": [
    "As pesquisas serão feitas através da Linguagem SQL, portanto será usada a biblioteca ``sqldf``."
   ]
  },
  {
   "cell_type": "code",
   "execution_count": 20,
   "id": "87d788bf",
   "metadata": {},
   "outputs": [],
   "source": [
    "# Função lambda com sqldf\n",
    "pysqldf = lambda q: sqldf(q, globals())"
   ]
  },
  {
   "cell_type": "markdown",
   "id": "b42bce4f",
   "metadata": {},
   "source": [
    "### 1. Qual a quantidade de incidentes por gênero?"
   ]
  },
  {
   "cell_type": "code",
   "execution_count": 21,
   "id": "5a24abca",
   "metadata": {},
   "outputs": [
    {
     "data": {
      "text/html": [
       "<div>\n",
       "<style scoped>\n",
       "    .dataframe tbody tr th:only-of-type {\n",
       "        vertical-align: middle;\n",
       "    }\n",
       "\n",
       "    .dataframe tbody tr th {\n",
       "        vertical-align: top;\n",
       "    }\n",
       "\n",
       "    .dataframe thead th {\n",
       "        text-align: right;\n",
       "    }\n",
       "</style>\n",
       "<table border=\"1\" class=\"dataframe\">\n",
       "  <thead>\n",
       "    <tr style=\"text-align: right;\">\n",
       "      <th></th>\n",
       "      <th>Victims Sex</th>\n",
       "      <th>Count</th>\n",
       "    </tr>\n",
       "  </thead>\n",
       "  <tbody>\n",
       "    <tr>\n",
       "      <th>0</th>\n",
       "      <td>Female</td>\n",
       "      <td>11847</td>\n",
       "    </tr>\n",
       "    <tr>\n",
       "      <th>1</th>\n",
       "      <td>Male</td>\n",
       "      <td>7709</td>\n",
       "    </tr>\n",
       "    <tr>\n",
       "      <th>2</th>\n",
       "      <td>Unknown</td>\n",
       "      <td>3602</td>\n",
       "    </tr>\n",
       "  </tbody>\n",
       "</table>\n",
       "</div>"
      ],
      "text/plain": [
       "  Victims Sex  Count\n",
       "0      Female  11847\n",
       "1        Male   7709\n",
       "2     Unknown   3602"
      ]
     },
     "execution_count": 21,
     "metadata": {},
     "output_type": "execute_result"
    }
   ],
   "source": [
    "# Define query e aplica função\n",
    "query = '''\n",
    "SELECT \"Victims Sex\", COUNT(*) as Count\n",
    "FROM df\n",
    "GROUP BY \"Victims Sex\"\n",
    "ORDER BY Count DESC'''\n",
    "pysqldf(query)"
   ]
  },
  {
   "cell_type": "markdown",
   "id": "f921af7e",
   "metadata": {},
   "source": [
    "De acordo com a query, os números de incidentes por sexo são:\n",
    "* Feminino: **11.847** incidentes\n",
    "* Masculino: **7.709** incidentes\n",
    "* Desconhecido: **3.602** incidentes"
   ]
  },
  {
   "cell_type": "markdown",
   "id": "71c984a4",
   "metadata": {},
   "source": [
    "### 2. Qual faixa etária esteve mais envolvida nos incidentes?"
   ]
  },
  {
   "cell_type": "code",
   "execution_count": 22,
   "id": "66a6768d",
   "metadata": {},
   "outputs": [
    {
     "data": {
      "text/html": [
       "<div>\n",
       "<style scoped>\n",
       "    .dataframe tbody tr th:only-of-type {\n",
       "        vertical-align: middle;\n",
       "    }\n",
       "\n",
       "    .dataframe tbody tr th {\n",
       "        vertical-align: top;\n",
       "    }\n",
       "\n",
       "    .dataframe thead th {\n",
       "        text-align: right;\n",
       "    }\n",
       "</style>\n",
       "<table border=\"1\" class=\"dataframe\">\n",
       "  <thead>\n",
       "    <tr style=\"text-align: right;\">\n",
       "      <th></th>\n",
       "      <th>Victims Age</th>\n",
       "      <th>Count</th>\n",
       "    </tr>\n",
       "  </thead>\n",
       "  <tbody>\n",
       "    <tr>\n",
       "      <th>0</th>\n",
       "      <td>Adult</td>\n",
       "      <td>10754</td>\n",
       "    </tr>\n",
       "  </tbody>\n",
       "</table>\n",
       "</div>"
      ],
      "text/plain": [
       "  Victims Age  Count\n",
       "0       Adult  10754"
      ]
     },
     "execution_count": 22,
     "metadata": {},
     "output_type": "execute_result"
    }
   ],
   "source": [
    "# Define query e aplica função\n",
    "query = '''\n",
    "SELECT \"Victims Age\", COUNT(*) AS Count\n",
    "FROM df\n",
    "GROUP BY \"Victims Age\"\n",
    "ORDER BY Count DESC\n",
    "LIMIT 1'''\n",
    "pysqldf(query)"
   ]
  },
  {
   "cell_type": "markdown",
   "id": "873fe87d",
   "metadata": {},
   "source": [
    "De acordo com a query, a faixa etária mais envolvida em incidentes é:\n",
    "* Adulto: **10.754** incidentes"
   ]
  },
  {
   "cell_type": "markdown",
   "id": "1d81ee7b",
   "metadata": {},
   "source": [
    "Segue restante da lista:"
   ]
  },
  {
   "cell_type": "code",
   "execution_count": 23,
   "id": "e83156dd",
   "metadata": {},
   "outputs": [
    {
     "data": {
      "text/html": [
       "<div>\n",
       "<style scoped>\n",
       "    .dataframe tbody tr th:only-of-type {\n",
       "        vertical-align: middle;\n",
       "    }\n",
       "\n",
       "    .dataframe tbody tr th {\n",
       "        vertical-align: top;\n",
       "    }\n",
       "\n",
       "    .dataframe thead th {\n",
       "        text-align: right;\n",
       "    }\n",
       "</style>\n",
       "<table border=\"1\" class=\"dataframe\">\n",
       "  <thead>\n",
       "    <tr style=\"text-align: right;\">\n",
       "      <th></th>\n",
       "      <th>Victims Age</th>\n",
       "      <th>Count</th>\n",
       "    </tr>\n",
       "  </thead>\n",
       "  <tbody>\n",
       "    <tr>\n",
       "      <th>0</th>\n",
       "      <td>Adult</td>\n",
       "      <td>10754</td>\n",
       "    </tr>\n",
       "    <tr>\n",
       "      <th>1</th>\n",
       "      <td>Unknown</td>\n",
       "      <td>7135</td>\n",
       "    </tr>\n",
       "    <tr>\n",
       "      <th>2</th>\n",
       "      <td>Elderly</td>\n",
       "      <td>2769</td>\n",
       "    </tr>\n",
       "    <tr>\n",
       "      <th>3</th>\n",
       "      <td>Child</td>\n",
       "      <td>2181</td>\n",
       "    </tr>\n",
       "    <tr>\n",
       "      <th>4</th>\n",
       "      <td>Youth</td>\n",
       "      <td>319</td>\n",
       "    </tr>\n",
       "  </tbody>\n",
       "</table>\n",
       "</div>"
      ],
      "text/plain": [
       "  Victims Age  Count\n",
       "0       Adult  10754\n",
       "1     Unknown   7135\n",
       "2     Elderly   2769\n",
       "3       Child   2181\n",
       "4       Youth    319"
      ]
     },
     "execution_count": 23,
     "metadata": {},
     "output_type": "execute_result"
    }
   ],
   "source": [
    "# Define query e aplica função\n",
    "query = '''\n",
    "SELECT \"Victims Age\", COUNT(*) AS Count\n",
    "FROM df\n",
    "GROUP BY \"Victims Age\"\n",
    "ORDER BY Count DESC'''\n",
    "pysqldf(query)"
   ]
  },
  {
   "cell_type": "markdown",
   "id": "1ec70439",
   "metadata": {},
   "source": [
    "### 3. Qual o percentual de incidentes por tipo de evento (Incident Event Type)?"
   ]
  },
  {
   "cell_type": "code",
   "execution_count": 24,
   "id": "41ae8acc",
   "metadata": {},
   "outputs": [
    {
     "data": {
      "text/html": [
       "<div>\n",
       "<style scoped>\n",
       "    .dataframe tbody tr th:only-of-type {\n",
       "        vertical-align: middle;\n",
       "    }\n",
       "\n",
       "    .dataframe tbody tr th {\n",
       "        vertical-align: top;\n",
       "    }\n",
       "\n",
       "    .dataframe thead th {\n",
       "        text-align: right;\n",
       "    }\n",
       "</style>\n",
       "<table border=\"1\" class=\"dataframe\">\n",
       "  <thead>\n",
       "    <tr style=\"text-align: right;\">\n",
       "      <th></th>\n",
       "      <th>Incident Event Type</th>\n",
       "      <th>Count</th>\n",
       "      <th>Total (%)</th>\n",
       "    </tr>\n",
       "  </thead>\n",
       "  <tbody>\n",
       "    <tr>\n",
       "      <th>0</th>\n",
       "      <td>Slip Trip Fall</td>\n",
       "      <td>6981</td>\n",
       "      <td>30.15</td>\n",
       "    </tr>\n",
       "    <tr>\n",
       "      <th>1</th>\n",
       "      <td>Onboard Injuries</td>\n",
       "      <td>6563</td>\n",
       "      <td>28.34</td>\n",
       "    </tr>\n",
       "    <tr>\n",
       "      <th>2</th>\n",
       "      <td>Personal Injury</td>\n",
       "      <td>4596</td>\n",
       "      <td>19.85</td>\n",
       "    </tr>\n",
       "    <tr>\n",
       "      <th>3</th>\n",
       "      <td>Collision Incident</td>\n",
       "      <td>4166</td>\n",
       "      <td>17.99</td>\n",
       "    </tr>\n",
       "    <tr>\n",
       "      <th>4</th>\n",
       "      <td>Assault</td>\n",
       "      <td>590</td>\n",
       "      <td>2.55</td>\n",
       "    </tr>\n",
       "    <tr>\n",
       "      <th>5</th>\n",
       "      <td>Activity Incident Event</td>\n",
       "      <td>114</td>\n",
       "      <td>0.49</td>\n",
       "    </tr>\n",
       "    <tr>\n",
       "      <th>6</th>\n",
       "      <td>Vandalism Hooliganism</td>\n",
       "      <td>73</td>\n",
       "      <td>0.32</td>\n",
       "    </tr>\n",
       "    <tr>\n",
       "      <th>7</th>\n",
       "      <td>Safety Critical Failure</td>\n",
       "      <td>66</td>\n",
       "      <td>0.28</td>\n",
       "    </tr>\n",
       "    <tr>\n",
       "      <th>8</th>\n",
       "      <td>Fire</td>\n",
       "      <td>6</td>\n",
       "      <td>0.03</td>\n",
       "    </tr>\n",
       "    <tr>\n",
       "      <th>9</th>\n",
       "      <td>Robbery</td>\n",
       "      <td>3</td>\n",
       "      <td>0.01</td>\n",
       "    </tr>\n",
       "  </tbody>\n",
       "</table>\n",
       "</div>"
      ],
      "text/plain": [
       "       Incident Event Type  Count  Total (%)\n",
       "0           Slip Trip Fall   6981      30.15\n",
       "1         Onboard Injuries   6563      28.34\n",
       "2          Personal Injury   4596      19.85\n",
       "3       Collision Incident   4166      17.99\n",
       "4                  Assault    590       2.55\n",
       "5  Activity Incident Event    114       0.49\n",
       "6    Vandalism Hooliganism     73       0.32\n",
       "7  Safety Critical Failure     66       0.28\n",
       "8                     Fire      6       0.03\n",
       "9                  Robbery      3       0.01"
      ]
     },
     "execution_count": 24,
     "metadata": {},
     "output_type": "execute_result"
    }
   ],
   "source": [
    "# Define query e aplica função\n",
    "query = '''\n",
    "SELECT \"Incident Event Type\", COUNT(*) AS Count,\n",
    "ROUND(CAST(100. * COUNT(*) / SUM(COUNT(*)) OVER () AS DECIMAL(10,2)),2) AS \"Total (%)\"\n",
    "FROM df\n",
    "GROUP BY \"Incident Event Type\"\n",
    "ORDER BY \"Total (%)\" DESC'''\n",
    "pysqldf(query)"
   ]
  },
  {
   "cell_type": "markdown",
   "id": "7fd37e19",
   "metadata": {},
   "source": [
    "### 4. Como foi a evolução de incidentes por mês ao longo do tempo?"
   ]
  },
  {
   "cell_type": "code",
   "execution_count": 25,
   "id": "53a6545a",
   "metadata": {},
   "outputs": [],
   "source": [
    "# Define query e aplica função\n",
    "query = '''\n",
    "SELECT Month || \"-\" || Year AS Date, COUNT(*) AS Count\n",
    "FROM (\n",
    "SELECT Year, STRFTIME(\"%m\", \"Date Of Incident\") AS Month\n",
    "FROM df)\n",
    "GROUP BY Year, Month'''\n",
    "df1 = pysqldf(query)"
   ]
  },
  {
   "cell_type": "code",
   "execution_count": 26,
   "id": "b53ef6c5",
   "metadata": {
    "scrolled": false
   },
   "outputs": [
    {
     "data": {
      "image/png": "[encoded data removed]",
      "text/plain": [
       "<Figure size 1200x400 with 1 Axes>"
      ]
     },
     "metadata": {},
     "output_type": "display_data"
    }
   ],
   "source": [
    "# Plot da tabela df1 gerada\n",
    "plt.figure(figsize=(12,4))\n",
    "ax = sns.barplot(data=df1, x='Date', y='Count', color='r')\n",
    "for i in ax.containers:\n",
    "    ax.bar_label(i,rotation=90,padding=3)\n",
    "plt.title('Quantidade de incidentes registrados ao longo dos meses')\n",
    "plt.ylim(0.95*df1.Count.min(),1.05*df1.Count.max())\n",
    "plt.xticks(rotation=90);"
   ]
  },
  {
   "cell_type": "markdown",
   "id": "7bd4c458",
   "metadata": {},
   "source": [
    "Segundo esta query, a quantidade de incidentes registrados parece ter um leve aumento pelos meses."
   ]
  },
  {
   "cell_type": "code",
   "execution_count": 27,
   "id": "124521e2",
   "metadata": {
    "scrolled": false
   },
   "outputs": [
    {
     "data": {
      "image/png": "[encoded data removed]",
      "text/plain": [
       "<Figure size 900x300 with 1 Axes>"
      ]
     },
     "metadata": {},
     "output_type": "display_data"
    }
   ],
   "source": [
    "# Define query e aplica função\n",
    "query = '''\n",
    "SELECT Year, ROUND(AVG(Count), 0) AS Mean\n",
    "FROM\n",
    "(SELECT Month, Year, COUNT(*) AS Count\n",
    "FROM\n",
    "(SELECT Year, STRFTIME(\"%m\", \"Date Of Incident\") AS Month\n",
    "FROM df)\n",
    "GROUP BY Year, Month)\n",
    "GROUP BY Year'''\n",
    "\n",
    "# Plot da média mensal de incidentes por ano\n",
    "plt.figure(figsize=(9,3))\n",
    "ax = sns.barplot(data=pysqldf(query), x='Year', y='Mean')\n",
    "for i in ax.containers:\n",
    "    ax.bar_label(i,)\n",
    "plt.ylim(0.95*pysqldf(query)['Mean'].min(),1.05*pysqldf(query)['Mean'].max())\n",
    "plt.title('Média mensal de incidentes por ano');"
   ]
  },
  {
   "cell_type": "markdown",
   "id": "73e35e5b",
   "metadata": {},
   "source": [
    "### 5. Quando o incidente foi “Collision Incident” em qual mês houve o maior número de incidentes envolvendo pessoas do sexo feminino?"
   ]
  },
  {
   "cell_type": "code",
   "execution_count": 28,
   "id": "a669db23",
   "metadata": {},
   "outputs": [
    {
     "data": {
      "text/html": [
       "<div>\n",
       "<style scoped>\n",
       "    .dataframe tbody tr th:only-of-type {\n",
       "        vertical-align: middle;\n",
       "    }\n",
       "\n",
       "    .dataframe tbody tr th {\n",
       "        vertical-align: top;\n",
       "    }\n",
       "\n",
       "    .dataframe thead th {\n",
       "        text-align: right;\n",
       "    }\n",
       "</style>\n",
       "<table border=\"1\" class=\"dataframe\">\n",
       "  <thead>\n",
       "    <tr style=\"text-align: right;\">\n",
       "      <th></th>\n",
       "      <th>Type</th>\n",
       "      <th>Victims Sex</th>\n",
       "      <th>Month</th>\n",
       "      <th>Year</th>\n",
       "      <th>Total</th>\n",
       "    </tr>\n",
       "  </thead>\n",
       "  <tbody>\n",
       "    <tr>\n",
       "      <th>0</th>\n",
       "      <td>Collision Incident</td>\n",
       "      <td>Female</td>\n",
       "      <td>11</td>\n",
       "      <td>2016</td>\n",
       "      <td>63</td>\n",
       "    </tr>\n",
       "  </tbody>\n",
       "</table>\n",
       "</div>"
      ],
      "text/plain": [
       "                 Type Victims Sex Month  Year  Total\n",
       "0  Collision Incident      Female    11  2016     63"
      ]
     },
     "execution_count": 28,
     "metadata": {},
     "output_type": "execute_result"
    }
   ],
   "source": [
    "# Define query e aplica função\n",
    "query = '''\n",
    "SELECT Type, \"Victims Sex\", Month, Year, MAX(\"Month Total\") AS Total\n",
    "FROM\n",
    "(SELECT Type, \"Victims Sex\", Month, Year, COUNT(Month) AS \"Month Total\"\n",
    "FROM\n",
    "(SELECT \"Incident Event Type\" AS Type, \"Victims Sex\", STRFTIME(\"%m\", \"Date Of Incident\") AS Month, Year\n",
    "FROM df\n",
    "WHERE \"Incident Event Type\"==\"Collision Incident\"\n",
    "AND \"Victims Sex\"==\"Female\")\n",
    "GROUP BY Year, Month)'''\n",
    "pysqldf(query)"
   ]
  },
  {
   "cell_type": "markdown",
   "id": "ed0aaf8c",
   "metadata": {},
   "source": [
    "De acordo com esta query, o mês com maior número de incidentes do tipo \"Collision Incident\" envolvendo pessoas do sexo feminino foi **novembro de 2016**, com total de 63 incidentes registrados."
   ]
  },
  {
   "cell_type": "markdown",
   "id": "34ec2b46",
   "metadata": {},
   "source": [
    "### 6. Qual foi a média de incidentes por mês envolvendo crianças (Child)?"
   ]
  },
  {
   "cell_type": "code",
   "execution_count": 29,
   "id": "418342de",
   "metadata": {},
   "outputs": [
    {
     "data": {
      "text/html": [
       "<div>\n",
       "<style scoped>\n",
       "    .dataframe tbody tr th:only-of-type {\n",
       "        vertical-align: middle;\n",
       "    }\n",
       "\n",
       "    .dataframe tbody tr th {\n",
       "        vertical-align: top;\n",
       "    }\n",
       "\n",
       "    .dataframe thead th {\n",
       "        text-align: right;\n",
       "    }\n",
       "</style>\n",
       "<table border=\"1\" class=\"dataframe\">\n",
       "  <thead>\n",
       "    <tr style=\"text-align: right;\">\n",
       "      <th></th>\n",
       "      <th>Victims Age</th>\n",
       "      <th>Mean</th>\n",
       "    </tr>\n",
       "  </thead>\n",
       "  <tbody>\n",
       "    <tr>\n",
       "      <th>0</th>\n",
       "      <td>Child</td>\n",
       "      <td>48.0</td>\n",
       "    </tr>\n",
       "  </tbody>\n",
       "</table>\n",
       "</div>"
      ],
      "text/plain": [
       "  Victims Age  Mean\n",
       "0       Child  48.0"
      ]
     },
     "execution_count": 29,
     "metadata": {},
     "output_type": "execute_result"
    }
   ],
   "source": [
    "# Define query e aplica função\n",
    "query = '''\n",
    "SELECT \"Victims Age\", ROUND(AVG(Count), 0) AS Mean\n",
    "FROM\n",
    "(SELECT \"Victims Age\", STRFTIME(\"%m\", \"Date Of Incident\") AS Month, Year, COUNT(*) AS Count\n",
    "FROM df\n",
    "WHERE \"Victims Age\"==\"Child\"\n",
    "GROUP BY \"Victims Age\", Year, Month)'''\n",
    "pysqldf(query)"
   ]
  },
  {
   "cell_type": "markdown",
   "id": "e42d8899",
   "metadata": {},
   "source": [
    "A média mensal de incidentes envolvendo crianças ao longo de todos os meses do dataset é de aproximadamente 48 incidentes."
   ]
  },
  {
   "cell_type": "code",
   "execution_count": 30,
   "id": "7bb9460b",
   "metadata": {},
   "outputs": [
    {
     "data": {
      "text/html": [
       "<div>\n",
       "<style scoped>\n",
       "    .dataframe tbody tr th:only-of-type {\n",
       "        vertical-align: middle;\n",
       "    }\n",
       "\n",
       "    .dataframe tbody tr th {\n",
       "        vertical-align: top;\n",
       "    }\n",
       "\n",
       "    .dataframe thead th {\n",
       "        text-align: right;\n",
       "    }\n",
       "</style>\n",
       "<table border=\"1\" class=\"dataframe\">\n",
       "  <thead>\n",
       "    <tr style=\"text-align: right;\">\n",
       "      <th></th>\n",
       "      <th>Victims Age</th>\n",
       "      <th>Year</th>\n",
       "      <th>Mean</th>\n",
       "    </tr>\n",
       "  </thead>\n",
       "  <tbody>\n",
       "    <tr>\n",
       "      <th>0</th>\n",
       "      <td>Child</td>\n",
       "      <td>2015</td>\n",
       "      <td>36.0</td>\n",
       "    </tr>\n",
       "    <tr>\n",
       "      <th>1</th>\n",
       "      <td>Child</td>\n",
       "      <td>2016</td>\n",
       "      <td>47.0</td>\n",
       "    </tr>\n",
       "    <tr>\n",
       "      <th>2</th>\n",
       "      <td>Child</td>\n",
       "      <td>2017</td>\n",
       "      <td>55.0</td>\n",
       "    </tr>\n",
       "    <tr>\n",
       "      <th>3</th>\n",
       "      <td>Child</td>\n",
       "      <td>2018</td>\n",
       "      <td>59.0</td>\n",
       "    </tr>\n",
       "  </tbody>\n",
       "</table>\n",
       "</div>"
      ],
      "text/plain": [
       "  Victims Age  Year  Mean\n",
       "0       Child  2015  36.0\n",
       "1       Child  2016  47.0\n",
       "2       Child  2017  55.0\n",
       "3       Child  2018  59.0"
      ]
     },
     "execution_count": 30,
     "metadata": {},
     "output_type": "execute_result"
    }
   ],
   "source": [
    "# Define query e aplica função\n",
    "query = '''\n",
    "SELECT \"Victims Age\", Year, ROUND(AVG(Count), 0) AS Mean\n",
    "FROM\n",
    "(SELECT \"Victims Age\", STRFTIME(\"%m\", \"Date Of Incident\") AS Month, Year, COUNT(*) AS Count\n",
    "FROM df\n",
    "WHERE \"Victims Age\"==\"Child\"\n",
    "GROUP BY \"Victims Age\", Year, Month)\n",
    "GROUP BY \"Year\"'''\n",
    "pysqldf(query)"
   ]
  },
  {
   "cell_type": "markdown",
   "id": "128ed3ac",
   "metadata": {},
   "source": [
    "A média mensal de incidentes envolvendo crianças ao longo de todos os meses e dividido por ano é de aproximadamente:\n",
    "* 36 incidentes em **2015**.\n",
    "* 47 incidentes em **2016**.\n",
    "* 55 incidentes em **2017**.\n",
    "* 59 incidentes em **2018**.\n",
    "\n",
    "Isso mostra um aumento na média mensal de incidentes com crianças ao longo dos anos."
   ]
  },
  {
   "cell_type": "markdown",
   "id": "44a924ed",
   "metadata": {},
   "source": [
    "### 7. Considerando a descrição de incidente como “Injuries treated on scene” (coluna Injury Result Description), qual o total de incidentes de pessoas do sexo masculino e sexo feminino?"
   ]
  },
  {
   "cell_type": "code",
   "execution_count": 31,
   "id": "1c757207",
   "metadata": {},
   "outputs": [
    {
     "data": {
      "text/html": [
       "<div>\n",
       "<style scoped>\n",
       "    .dataframe tbody tr th:only-of-type {\n",
       "        vertical-align: middle;\n",
       "    }\n",
       "\n",
       "    .dataframe tbody tr th {\n",
       "        vertical-align: top;\n",
       "    }\n",
       "\n",
       "    .dataframe thead th {\n",
       "        text-align: right;\n",
       "    }\n",
       "</style>\n",
       "<table border=\"1\" class=\"dataframe\">\n",
       "  <thead>\n",
       "    <tr style=\"text-align: right;\">\n",
       "      <th></th>\n",
       "      <th>Victims Sex</th>\n",
       "      <th>Injury Result Description</th>\n",
       "      <th>Count</th>\n",
       "    </tr>\n",
       "  </thead>\n",
       "  <tbody>\n",
       "    <tr>\n",
       "      <th>0</th>\n",
       "      <td>Female</td>\n",
       "      <td>Injuries treated on scene</td>\n",
       "      <td>8816</td>\n",
       "    </tr>\n",
       "    <tr>\n",
       "      <th>1</th>\n",
       "      <td>Male</td>\n",
       "      <td>Injuries treated on scene</td>\n",
       "      <td>5632</td>\n",
       "    </tr>\n",
       "  </tbody>\n",
       "</table>\n",
       "</div>"
      ],
      "text/plain": [
       "  Victims Sex  Injury Result Description  Count\n",
       "0      Female  Injuries treated on scene   8816\n",
       "1        Male  Injuries treated on scene   5632"
      ]
     },
     "execution_count": 31,
     "metadata": {},
     "output_type": "execute_result"
    }
   ],
   "source": [
    "# Define query e aplica função\n",
    "query = '''\n",
    "SELECT \"Victims Sex\", \"Injury Result Description\", COUNT(*) AS Count \n",
    "FROM df\n",
    "WHERE \"Injury Result Description\"=\"Injuries treated on scene\" AND\n",
    "(\"Victims Sex\"=\"Female\" OR \"Victims Sex\"=\"Male\")\n",
    "GROUP BY \"Victims Sex\"'''\n",
    "pysqldf(query)"
   ]
  },
  {
   "cell_type": "code",
   "execution_count": 32,
   "id": "c7e9941d",
   "metadata": {},
   "outputs": [
    {
     "data": {
      "text/html": [
       "<div>\n",
       "<style scoped>\n",
       "    .dataframe tbody tr th:only-of-type {\n",
       "        vertical-align: middle;\n",
       "    }\n",
       "\n",
       "    .dataframe tbody tr th {\n",
       "        vertical-align: top;\n",
       "    }\n",
       "\n",
       "    .dataframe thead th {\n",
       "        text-align: right;\n",
       "    }\n",
       "</style>\n",
       "<table border=\"1\" class=\"dataframe\">\n",
       "  <thead>\n",
       "    <tr style=\"text-align: right;\">\n",
       "      <th></th>\n",
       "      <th>Victims Sex</th>\n",
       "      <th>Injury Result Description</th>\n",
       "      <th>Count</th>\n",
       "    </tr>\n",
       "  </thead>\n",
       "  <tbody>\n",
       "    <tr>\n",
       "      <th>0</th>\n",
       "      <td>Female</td>\n",
       "      <td>Injuries treated on scene</td>\n",
       "      <td>8816</td>\n",
       "    </tr>\n",
       "    <tr>\n",
       "      <th>1</th>\n",
       "      <td>Male</td>\n",
       "      <td>Injuries treated on scene</td>\n",
       "      <td>5632</td>\n",
       "    </tr>\n",
       "  </tbody>\n",
       "</table>\n",
       "</div>"
      ],
      "text/plain": [
       "  Victims Sex  Injury Result Description  Count\n",
       "0      Female  Injuries treated on scene   8816\n",
       "1        Male  Injuries treated on scene   5632"
      ]
     },
     "execution_count": 32,
     "metadata": {},
     "output_type": "execute_result"
    }
   ],
   "source": [
    "# Define query e aplica função\n",
    "query = '''\n",
    "SELECT \"Victims Sex\", \"Injury Result Description\", COUNT(*) AS Count\n",
    "FROM df\n",
    "WHERE \"Injury Result Description\"=\"Injuries treated on scene\" AND\n",
    "(\"Victims Sex\"=\"Female\" OR \"Victims Sex\"=\"Male\")\n",
    "GROUP BY \"Victims Sex\"'''\n",
    "pysqldf(query)"
   ]
  },
  {
   "cell_type": "markdown",
   "id": "704d1c9e",
   "metadata": {},
   "source": [
    "O número total de incidentes descritas como `Incidentes tratados no local` é:\n",
    "* 8.816 para pessoas do sexo **Feminino**.\n",
    "* 5.632 para pessoas do sexo **Masculino**."
   ]
  },
  {
   "cell_type": "markdown",
   "id": "48320b31",
   "metadata": {},
   "source": [
    "### 8. No ano de 2017 em qual mês houve mais incidentes com idosos (Elderly)?\n"
   ]
  },
  {
   "cell_type": "code",
   "execution_count": 33,
   "id": "83aa35d1",
   "metadata": {},
   "outputs": [
    {
     "data": {
      "text/html": [
       "<div>\n",
       "<style scoped>\n",
       "    .dataframe tbody tr th:only-of-type {\n",
       "        vertical-align: middle;\n",
       "    }\n",
       "\n",
       "    .dataframe tbody tr th {\n",
       "        vertical-align: top;\n",
       "    }\n",
       "\n",
       "    .dataframe thead th {\n",
       "        text-align: right;\n",
       "    }\n",
       "</style>\n",
       "<table border=\"1\" class=\"dataframe\">\n",
       "  <thead>\n",
       "    <tr style=\"text-align: right;\">\n",
       "      <th></th>\n",
       "      <th>Year</th>\n",
       "      <th>Month</th>\n",
       "      <th>Max Count</th>\n",
       "    </tr>\n",
       "  </thead>\n",
       "  <tbody>\n",
       "    <tr>\n",
       "      <th>0</th>\n",
       "      <td>2017</td>\n",
       "      <td>07</td>\n",
       "      <td>81</td>\n",
       "    </tr>\n",
       "  </tbody>\n",
       "</table>\n",
       "</div>"
      ],
      "text/plain": [
       "   Year Month  Max Count\n",
       "0  2017    07         81"
      ]
     },
     "execution_count": 33,
     "metadata": {},
     "output_type": "execute_result"
    }
   ],
   "source": [
    "# Define query e aplica função\n",
    "query = '''\n",
    "SELECT Year, Month, MAX(Count) AS \"Max Count\" FROM\n",
    "(SELECT \"Victims Age\", STRFTIME(\"%m\", \"Date of Incident\") AS Month, Year, COUNT(*) AS Count\n",
    "FROM df\n",
    "WHERE \"Victims Age\"=\"Elderly\" AND Year=2017\n",
    "GROUP BY Month)\n",
    "'''\n",
    "pysqldf(query)"
   ]
  },
  {
   "cell_type": "code",
   "execution_count": 34,
   "id": "87188be1",
   "metadata": {},
   "outputs": [
    {
     "data": {
      "image/png": "[encoded data removed]",
      "text/plain": [
       "<Figure size 1200x400 with 1 Axes>"
      ]
     },
     "metadata": {},
     "output_type": "display_data"
    }
   ],
   "source": [
    "# Define query e aplica função para plot gráfico\n",
    "query = '''\n",
    "SELECT \"Victims Age\", STRFTIME(\"%m\", \"Date of Incident\") AS Month, Year, COUNT(*) AS Count\n",
    "FROM df\n",
    "WHERE \"Victims Age\"=\"Elderly\" AND Year=2017\n",
    "GROUP BY Month\n",
    "'''\n",
    "df2 = pysqldf(query)\n",
    "\n",
    "plt.figure(figsize=(12,4))\n",
    "ax = sns.barplot(data=df2, x='Month', y='Count', color='brown')\n",
    "for i in ax.containers:\n",
    "    ax.bar_label(i,)\n",
    "plt.ylim(0.95*df2.Count.min(), 1.05*df2.Count.max())\n",
    "plt.title('Quantidade de incidentes registrados de Idosos em 2017');"
   ]
  },
  {
   "cell_type": "markdown",
   "id": "8fca7044",
   "metadata": {},
   "source": [
    "Portanto, o mês onde houveram mais incidentes com idosos foi o mês 07 (Julho), com total de **81 incidentes**."
   ]
  },
  {
   "cell_type": "markdown",
   "id": "38662696",
   "metadata": {},
   "source": [
    "### 9. Considerando o Operador qual a distribuição de incidentes ao longo do tempo?\n"
   ]
  },
  {
   "cell_type": "code",
   "execution_count": 35,
   "id": "5679472b",
   "metadata": {},
   "outputs": [
    {
     "name": "stdout",
     "output_type": "stream",
     "text": [
      "COUNT(Operator) FILTER (WHERE Operator = \"London General\") AS \"London General\",\n",
      "COUNT(Operator) FILTER (WHERE Operator = \"Metroline\") AS \"Metroline\",\n",
      "COUNT(Operator) FILTER (WHERE Operator = \"East London\") AS \"East London\",\n",
      "COUNT(Operator) FILTER (WHERE Operator = \"Selkent\") AS \"Selkent\",\n",
      "COUNT(Operator) FILTER (WHERE Operator = \"London United\") AS \"London United\",\n",
      "COUNT(Operator) FILTER (WHERE Operator = \"London Central\") AS \"London Central\",\n",
      "COUNT(Operator) FILTER (WHERE Operator = \"Metroline West\") AS \"Metroline West\",\n",
      "COUNT(Operator) FILTER (WHERE Operator = \"Tower Transit\") AS \"Tower Transit\",\n",
      "COUNT(Operator) FILTER (WHERE Operator = \"Arriva London North\") AS \"Arriva London North\",\n",
      "COUNT(Operator) FILTER (WHERE Operator = \"Abellio London\") AS \"Abellio London\",\n",
      "COUNT(Operator) FILTER (WHERE Operator = \"Metrobus\") AS \"Metrobus\",\n",
      "COUNT(Operator) FILTER (WHERE Operator = \"Arriva London South\") AS \"Arriva London South\",\n",
      "COUNT(Operator) FILTER (WHERE Operator = \"Arriva The Shires\") AS \"Arriva The Shires\",\n",
      "COUNT(Operator) FILTER (WHERE Operator = \"Arriva Kent Thameside\") AS \"Arriva Kent Thameside\",\n",
      "COUNT(Operator) FILTER (WHERE Operator = \"Abellio West\") AS \"Abellio West\",\n",
      "COUNT(Operator) FILTER (WHERE Operator = \"Docklands Buses\") AS \"Docklands Buses\",\n",
      "COUNT(Operator) FILTER (WHERE Operator = \"Blue Triangle Buses\") AS \"Blue Triangle Buses\",\n",
      "COUNT(Operator) FILTER (WHERE Operator = \"H R Richmond\") AS \"H R Richmond\",\n",
      "COUNT(Operator) FILTER (WHERE Operator = \"C T Plus\") AS \"C T Plus\",\n",
      "COUNT(Operator) FILTER (WHERE Operator = \"London Sovereign\") AS \"London Sovereign\",\n",
      "COUNT(Operator) FILTER (WHERE Operator = \"TGM GROUP\") AS \"TGM GROUP\",\n",
      "COUNT(Operator) FILTER (WHERE Operator = \"Sullivan Buses\") AS \"Sullivan Buses\",\n",
      "COUNT(Operator) FILTER (WHERE Operator = \"Uno Buses\") AS \"Uno Buses\",\n",
      "COUNT(Operator) FILTER (WHERE Operator = \"Quality Line\") AS \"Quality Line\",\n",
      "COUNT(Operator) FILTER (WHERE Operator = \"Sullivan Bus & Coach\") AS \"Sullivan Bus & Coach\",\n"
     ]
    }
   ],
   "source": [
    "# Automatizando o texto para a query\n",
    "for i in df.Operator.unique():\n",
    "    print('COUNT(Operator) FILTER (WHERE Operator = \"' + i + '\") AS \"' + i + '\",')"
   ]
  },
  {
   "cell_type": "code",
   "execution_count": 36,
   "id": "4816b595",
   "metadata": {
    "scrolled": false
   },
   "outputs": [
    {
     "data": {
      "text/html": [
       "<div>\n",
       "<style scoped>\n",
       "    .dataframe tbody tr th:only-of-type {\n",
       "        vertical-align: middle;\n",
       "    }\n",
       "\n",
       "    .dataframe tbody tr th {\n",
       "        vertical-align: top;\n",
       "    }\n",
       "\n",
       "    .dataframe thead th {\n",
       "        text-align: right;\n",
       "    }\n",
       "</style>\n",
       "<table border=\"1\" class=\"dataframe\">\n",
       "  <thead>\n",
       "    <tr style=\"text-align: right;\">\n",
       "      <th></th>\n",
       "      <th>Date</th>\n",
       "      <th>London General</th>\n",
       "      <th>Metroline</th>\n",
       "      <th>East London</th>\n",
       "      <th>Selkent</th>\n",
       "      <th>London United</th>\n",
       "      <th>London Central</th>\n",
       "      <th>Metroline West</th>\n",
       "      <th>Tower Transit</th>\n",
       "      <th>Arriva London North</th>\n",
       "      <th>...</th>\n",
       "      <th>Docklands Buses</th>\n",
       "      <th>Blue Triangle Buses</th>\n",
       "      <th>H R Richmond</th>\n",
       "      <th>C T Plus</th>\n",
       "      <th>London Sovereign</th>\n",
       "      <th>TGM GROUP</th>\n",
       "      <th>Sullivan Buses</th>\n",
       "      <th>Uno Buses</th>\n",
       "      <th>Quality Line</th>\n",
       "      <th>Sullivan Bus &amp; Coach</th>\n",
       "    </tr>\n",
       "  </thead>\n",
       "  <tbody>\n",
       "    <tr>\n",
       "      <th>0</th>\n",
       "      <td>01-2015</td>\n",
       "      <td>43</td>\n",
       "      <td>59</td>\n",
       "      <td>4</td>\n",
       "      <td>27</td>\n",
       "      <td>67</td>\n",
       "      <td>22</td>\n",
       "      <td>25</td>\n",
       "      <td>7</td>\n",
       "      <td>57</td>\n",
       "      <td>...</td>\n",
       "      <td>6</td>\n",
       "      <td>2</td>\n",
       "      <td>4</td>\n",
       "      <td>0</td>\n",
       "      <td>0</td>\n",
       "      <td>0</td>\n",
       "      <td>0</td>\n",
       "      <td>0</td>\n",
       "      <td>0</td>\n",
       "      <td>0</td>\n",
       "    </tr>\n",
       "    <tr>\n",
       "      <th>1</th>\n",
       "      <td>02-2015</td>\n",
       "      <td>36</td>\n",
       "      <td>74</td>\n",
       "      <td>29</td>\n",
       "      <td>11</td>\n",
       "      <td>53</td>\n",
       "      <td>17</td>\n",
       "      <td>18</td>\n",
       "      <td>8</td>\n",
       "      <td>60</td>\n",
       "      <td>...</td>\n",
       "      <td>1</td>\n",
       "      <td>1</td>\n",
       "      <td>0</td>\n",
       "      <td>2</td>\n",
       "      <td>1</td>\n",
       "      <td>0</td>\n",
       "      <td>0</td>\n",
       "      <td>0</td>\n",
       "      <td>0</td>\n",
       "      <td>0</td>\n",
       "    </tr>\n",
       "    <tr>\n",
       "      <th>2</th>\n",
       "      <td>03-2015</td>\n",
       "      <td>27</td>\n",
       "      <td>63</td>\n",
       "      <td>50</td>\n",
       "      <td>0</td>\n",
       "      <td>66</td>\n",
       "      <td>27</td>\n",
       "      <td>21</td>\n",
       "      <td>5</td>\n",
       "      <td>88</td>\n",
       "      <td>...</td>\n",
       "      <td>1</td>\n",
       "      <td>6</td>\n",
       "      <td>10</td>\n",
       "      <td>0</td>\n",
       "      <td>7</td>\n",
       "      <td>0</td>\n",
       "      <td>0</td>\n",
       "      <td>0</td>\n",
       "      <td>0</td>\n",
       "      <td>0</td>\n",
       "    </tr>\n",
       "    <tr>\n",
       "      <th>3</th>\n",
       "      <td>04-2015</td>\n",
       "      <td>42</td>\n",
       "      <td>73</td>\n",
       "      <td>78</td>\n",
       "      <td>3</td>\n",
       "      <td>54</td>\n",
       "      <td>30</td>\n",
       "      <td>30</td>\n",
       "      <td>6</td>\n",
       "      <td>53</td>\n",
       "      <td>...</td>\n",
       "      <td>2</td>\n",
       "      <td>2</td>\n",
       "      <td>2</td>\n",
       "      <td>3</td>\n",
       "      <td>1</td>\n",
       "      <td>0</td>\n",
       "      <td>0</td>\n",
       "      <td>0</td>\n",
       "      <td>0</td>\n",
       "      <td>0</td>\n",
       "    </tr>\n",
       "    <tr>\n",
       "      <th>4</th>\n",
       "      <td>05-2015</td>\n",
       "      <td>45</td>\n",
       "      <td>62</td>\n",
       "      <td>67</td>\n",
       "      <td>2</td>\n",
       "      <td>60</td>\n",
       "      <td>23</td>\n",
       "      <td>29</td>\n",
       "      <td>14</td>\n",
       "      <td>64</td>\n",
       "      <td>...</td>\n",
       "      <td>2</td>\n",
       "      <td>2</td>\n",
       "      <td>4</td>\n",
       "      <td>0</td>\n",
       "      <td>6</td>\n",
       "      <td>0</td>\n",
       "      <td>0</td>\n",
       "      <td>0</td>\n",
       "      <td>0</td>\n",
       "      <td>0</td>\n",
       "    </tr>\n",
       "  </tbody>\n",
       "</table>\n",
       "<p>5 rows × 26 columns</p>\n",
       "</div>"
      ],
      "text/plain": [
       "      Date  London General  Metroline  East London  Selkent  London United  \\\n",
       "0  01-2015              43         59            4       27             67   \n",
       "1  02-2015              36         74           29       11             53   \n",
       "2  03-2015              27         63           50        0             66   \n",
       "3  04-2015              42         73           78        3             54   \n",
       "4  05-2015              45         62           67        2             60   \n",
       "\n",
       "   London Central  Metroline West  Tower Transit  Arriva London North  ...  \\\n",
       "0              22              25              7                   57  ...   \n",
       "1              17              18              8                   60  ...   \n",
       "2              27              21              5                   88  ...   \n",
       "3              30              30              6                   53  ...   \n",
       "4              23              29             14                   64  ...   \n",
       "\n",
       "   Docklands Buses  Blue Triangle Buses  H R Richmond  C T Plus  \\\n",
       "0                6                    2             4         0   \n",
       "1                1                    1             0         2   \n",
       "2                1                    6            10         0   \n",
       "3                2                    2             2         3   \n",
       "4                2                    2             4         0   \n",
       "\n",
       "   London Sovereign  TGM GROUP  Sullivan Buses  Uno Buses  Quality Line  \\\n",
       "0                 0          0               0          0             0   \n",
       "1                 1          0               0          0             0   \n",
       "2                 7          0               0          0             0   \n",
       "3                 1          0               0          0             0   \n",
       "4                 6          0               0          0             0   \n",
       "\n",
       "   Sullivan Bus & Coach  \n",
       "0                     0  \n",
       "1                     0  \n",
       "2                     0  \n",
       "3                     0  \n",
       "4                     0  \n",
       "\n",
       "[5 rows x 26 columns]"
      ]
     },
     "execution_count": 36,
     "metadata": {},
     "output_type": "execute_result"
    }
   ],
   "source": [
    "# Define query e aplica função\n",
    "query = '''\n",
    "SELECT\n",
    "    Date,\n",
    "    COUNT(Operator) FILTER (WHERE Operator = \"London General\") AS \"London General\",\n",
    "    COUNT(Operator) FILTER (WHERE Operator = \"Metroline\") AS \"Metroline\",\n",
    "    COUNT(Operator) FILTER (WHERE Operator = \"East London\") AS \"East London\",\n",
    "    COUNT(Operator) FILTER (WHERE Operator = \"Selkent\") AS \"Selkent\",\n",
    "    COUNT(Operator) FILTER (WHERE Operator = \"London United\") AS \"London United\",\n",
    "    COUNT(Operator) FILTER (WHERE Operator = \"London Central\") AS \"London Central\",\n",
    "    COUNT(Operator) FILTER (WHERE Operator = \"Metroline West\") AS \"Metroline West\",\n",
    "    COUNT(Operator) FILTER (WHERE Operator = \"Tower Transit\") AS \"Tower Transit\",\n",
    "    COUNT(Operator) FILTER (WHERE Operator = \"Arriva London North\") AS \"Arriva London North\",\n",
    "    COUNT(Operator) FILTER (WHERE Operator = \"Abellio London\") AS \"Abellio London\",\n",
    "    COUNT(Operator) FILTER (WHERE Operator = \"Metrobus\") AS \"Metrobus\",\n",
    "    COUNT(Operator) FILTER (WHERE Operator = \"Arriva London South\") AS \"Arriva London South\",\n",
    "    COUNT(Operator) FILTER (WHERE Operator = \"Arriva The Shires\") AS \"Arriva The Shires\",\n",
    "    COUNT(Operator) FILTER (WHERE Operator = \"Arriva Kent Thameside\") AS \"Arriva Kent Thameside\",\n",
    "    COUNT(Operator) FILTER (WHERE Operator = \"Abellio West\") AS \"Abellio West\",\n",
    "    COUNT(Operator) FILTER (WHERE Operator = \"Docklands Buses\") AS \"Docklands Buses\",\n",
    "    COUNT(Operator) FILTER (WHERE Operator = \"Blue Triangle Buses\") AS \"Blue Triangle Buses\",\n",
    "    COUNT(Operator) FILTER (WHERE Operator = \"H R Richmond\") AS \"H R Richmond\",\n",
    "    COUNT(Operator) FILTER (WHERE Operator = \"C T Plus\") AS \"C T Plus\",\n",
    "    COUNT(Operator) FILTER (WHERE Operator = \"London Sovereign\") AS \"London Sovereign\",\n",
    "    COUNT(Operator) FILTER (WHERE Operator = \"TGM GROUP\") AS \"TGM GROUP\",\n",
    "    COUNT(Operator) FILTER (WHERE Operator = \"Sullivan Buses\") AS \"Sullivan Buses\",\n",
    "    COUNT(Operator) FILTER (WHERE Operator = \"Uno Buses\") AS \"Uno Buses\",\n",
    "    COUNT(Operator) FILTER (WHERE Operator = \"Quality Line\") AS \"Quality Line\",\n",
    "    COUNT(Operator) FILTER (WHERE Operator = \"Sullivan Bus & Coach\") AS \"Sullivan Bus & Coach\"\n",
    "FROM \n",
    "(\n",
    "SELECT Operator, STRFTIME(\"%m\", \"Date of Incident\") AS Month, Year, STRFTIME(\"%m\", \"Date of Incident\") || \"-\" || Year AS Date\n",
    "FROM df\n",
    ")\n",
    "GROUP BY Month, Year\n",
    "ORDER BY Year, Month\n",
    "'''\n",
    "df3 = pysqldf(query)\n",
    "df3.head()"
   ]
  },
  {
   "cell_type": "code",
   "execution_count": 37,
   "id": "433f8cad",
   "metadata": {
    "scrolled": false
   },
   "outputs": [
    {
     "data": {
      "image/png": "[encoded data removed]",
      "text/plain": [
       "<Figure size 1200x2400 with 25 Axes>"
      ]
     },
     "metadata": {},
     "output_type": "display_data"
    }
   ],
   "source": [
    "# Plotando o número de incidentes por Operator ao longo do tempo\n",
    "plt.figure(figsize=(12,24))\n",
    "for i in range(1, len(df3.columns)):\n",
    "    plt.subplot(13, 2, i)\n",
    "    sns.barplot(x=df3['Date'], y = df3[df3.columns[i]], color = 'blue')\n",
    "    plt.xlabel('')\n",
    "    plt.ylabel('')\n",
    "    plt.title(df3.columns[i])\n",
    "    plt.xticks([]);\n",
    "    plt.subplots_adjust(hspace=0.8);"
   ]
  },
  {
   "cell_type": "markdown",
   "id": "ffc2708f",
   "metadata": {},
   "source": [
    "Olhando os gráficos percebe-se que algumas operadoras se mantiveram constantes em seus números de incidentes:\n",
    "* London General, Metroline, London United, Metroline West, Arriva London North, Arriva London South, Dockland Buses.\n",
    "\n",
    "Outras operadoras tiveram aumento nos números ao longo do tempo:\n",
    "* Selkent, London Central, Abellio London, Blue Triangle Buses, C T Plus.\n",
    "\n",
    "Outras operadoras tiveram diminuição no número de incidentes:\n",
    "* East London, Metrobus.\n",
    "\n",
    "Outras operadoras tiveram um aumento em determinado período do tempo e logo voltaram ao número anterior:\n",
    "* Abellio West, Tower Transit, London Sovereign.\n",
    "\n",
    "Outras operadoras tiveram números registrados somente em uma parte do período do dataset. É provável que deixaram de operar em ou iniciaram as operações a partir de determinada data:\n",
    "* TGM Group, H R Richmond, Arriva The Shires, Arriva Kent Thameside, Quality Line.\n",
    "\n",
    "\n",
    "Outras operadoras tiveram somente no máximo 2 incidentes registrados:\n",
    "* Sullivan Buses, Uno Buses, Sullivan Bus & Coach."
   ]
  },
  {
   "cell_type": "markdown",
   "id": "7fba5e54",
   "metadata": {},
   "source": [
    "### 10. Qual o tipo de incidente mais comum com ciclistas?\n"
   ]
  },
  {
   "cell_type": "code",
   "execution_count": 38,
   "id": "f0bd3423",
   "metadata": {
    "scrolled": false
   },
   "outputs": [
    {
     "data": {
      "text/html": [
       "<div>\n",
       "<style scoped>\n",
       "    .dataframe tbody tr th:only-of-type {\n",
       "        vertical-align: middle;\n",
       "    }\n",
       "\n",
       "    .dataframe tbody tr th {\n",
       "        vertical-align: top;\n",
       "    }\n",
       "\n",
       "    .dataframe thead th {\n",
       "        text-align: right;\n",
       "    }\n",
       "</style>\n",
       "<table border=\"1\" class=\"dataframe\">\n",
       "  <thead>\n",
       "    <tr style=\"text-align: right;\">\n",
       "      <th></th>\n",
       "      <th>Victim Category</th>\n",
       "      <th>Count</th>\n",
       "    </tr>\n",
       "  </thead>\n",
       "  <tbody>\n",
       "    <tr>\n",
       "      <th>0</th>\n",
       "      <td>3rd Party driver / Occupant</td>\n",
       "      <td>573</td>\n",
       "    </tr>\n",
       "    <tr>\n",
       "      <th>1</th>\n",
       "      <td>Bus Driver</td>\n",
       "      <td>1484</td>\n",
       "    </tr>\n",
       "    <tr>\n",
       "      <th>2</th>\n",
       "      <td>Conductor</td>\n",
       "      <td>28</td>\n",
       "    </tr>\n",
       "    <tr>\n",
       "      <th>3</th>\n",
       "      <td>Contractor Staff</td>\n",
       "      <td>6</td>\n",
       "    </tr>\n",
       "    <tr>\n",
       "      <th>4</th>\n",
       "      <td>Cyclist</td>\n",
       "      <td>275</td>\n",
       "    </tr>\n",
       "    <tr>\n",
       "      <th>5</th>\n",
       "      <td>Cyclist</td>\n",
       "      <td>33</td>\n",
       "    </tr>\n",
       "    <tr>\n",
       "      <th>6</th>\n",
       "      <td>Insufficient Data</td>\n",
       "      <td>2</td>\n",
       "    </tr>\n",
       "    <tr>\n",
       "      <th>7</th>\n",
       "      <td>Member Of Public</td>\n",
       "      <td>127</td>\n",
       "    </tr>\n",
       "    <tr>\n",
       "      <th>8</th>\n",
       "      <td>Motorcyclist</td>\n",
       "      <td>102</td>\n",
       "    </tr>\n",
       "    <tr>\n",
       "      <th>9</th>\n",
       "      <td>Motorcyclist</td>\n",
       "      <td>4</td>\n",
       "    </tr>\n",
       "    <tr>\n",
       "      <th>10</th>\n",
       "      <td>Non-Operational Staff</td>\n",
       "      <td>4</td>\n",
       "    </tr>\n",
       "    <tr>\n",
       "      <th>11</th>\n",
       "      <td>Operational Staff</td>\n",
       "      <td>59</td>\n",
       "    </tr>\n",
       "    <tr>\n",
       "      <th>12</th>\n",
       "      <td>Operations staff (other)</td>\n",
       "      <td>1</td>\n",
       "    </tr>\n",
       "    <tr>\n",
       "      <th>13</th>\n",
       "      <td>Other</td>\n",
       "      <td>16</td>\n",
       "    </tr>\n",
       "    <tr>\n",
       "      <th>14</th>\n",
       "      <td>Passenger</td>\n",
       "      <td>18828</td>\n",
       "    </tr>\n",
       "    <tr>\n",
       "      <th>15</th>\n",
       "      <td>Pedestrian</td>\n",
       "      <td>1612</td>\n",
       "    </tr>\n",
       "    <tr>\n",
       "      <th>16</th>\n",
       "      <td>TfL Staff</td>\n",
       "      <td>4</td>\n",
       "    </tr>\n",
       "  </tbody>\n",
       "</table>\n",
       "</div>"
      ],
      "text/plain": [
       "                Victim Category  Count\n",
       "0   3rd Party driver / Occupant    573\n",
       "1                    Bus Driver   1484\n",
       "2                     Conductor     28\n",
       "3              Contractor Staff      6\n",
       "4                       Cyclist    275\n",
       "5                      Cyclist      33\n",
       "6             Insufficient Data      2\n",
       "7              Member Of Public    127\n",
       "8                  Motorcyclist    102\n",
       "9                 Motorcyclist       4\n",
       "10        Non-Operational Staff      4\n",
       "11            Operational Staff     59\n",
       "12     Operations staff (other)      1\n",
       "13                        Other     16\n",
       "14                    Passenger  18828\n",
       "15                   Pedestrian   1612\n",
       "16                    TfL Staff      4"
      ]
     },
     "execution_count": 38,
     "metadata": {},
     "output_type": "execute_result"
    }
   ],
   "source": [
    "# Define query e aplica função\n",
    "query = '''\n",
    "SELECT \"Victim Category\", COUNT(*) AS Count\n",
    "FROM df\n",
    "GROUP BY \"Victim Category\"\n",
    "'''\n",
    "pysqldf(query)"
   ]
  },
  {
   "cell_type": "markdown",
   "id": "749662a1",
   "metadata": {},
   "source": [
    "Existem 2 categorias de \"Cyclist\". Uma delas com o caracter 'espaço' ao final do texto."
   ]
  },
  {
   "cell_type": "code",
   "execution_count": 39,
   "id": "fec5532e",
   "metadata": {
    "scrolled": false
   },
   "outputs": [
    {
     "data": {
      "text/html": [
       "<div>\n",
       "<style scoped>\n",
       "    .dataframe tbody tr th:only-of-type {\n",
       "        vertical-align: middle;\n",
       "    }\n",
       "\n",
       "    .dataframe tbody tr th {\n",
       "        vertical-align: top;\n",
       "    }\n",
       "\n",
       "    .dataframe thead th {\n",
       "        text-align: right;\n",
       "    }\n",
       "</style>\n",
       "<table border=\"1\" class=\"dataframe\">\n",
       "  <thead>\n",
       "    <tr style=\"text-align: right;\">\n",
       "      <th></th>\n",
       "      <th>Incident Event Type</th>\n",
       "      <th>Count</th>\n",
       "    </tr>\n",
       "  </thead>\n",
       "  <tbody>\n",
       "    <tr>\n",
       "      <th>0</th>\n",
       "      <td>Collision Incident</td>\n",
       "      <td>287</td>\n",
       "    </tr>\n",
       "    <tr>\n",
       "      <th>1</th>\n",
       "      <td>Personal Injury</td>\n",
       "      <td>9</td>\n",
       "    </tr>\n",
       "    <tr>\n",
       "      <th>2</th>\n",
       "      <td>Slip Trip Fall</td>\n",
       "      <td>7</td>\n",
       "    </tr>\n",
       "    <tr>\n",
       "      <th>3</th>\n",
       "      <td>Onboard Injuries</td>\n",
       "      <td>4</td>\n",
       "    </tr>\n",
       "    <tr>\n",
       "      <th>4</th>\n",
       "      <td>Assault</td>\n",
       "      <td>1</td>\n",
       "    </tr>\n",
       "  </tbody>\n",
       "</table>\n",
       "</div>"
      ],
      "text/plain": [
       "  Incident Event Type  Count\n",
       "0  Collision Incident    287\n",
       "1     Personal Injury      9\n",
       "2      Slip Trip Fall      7\n",
       "3    Onboard Injuries      4\n",
       "4             Assault      1"
      ]
     },
     "execution_count": 39,
     "metadata": {},
     "output_type": "execute_result"
    }
   ],
   "source": [
    "# Define query e aplica função\n",
    "query = '''\n",
    "SELECT \"Incident Event Type\", COUNT(*) AS Count\n",
    "FROM df\n",
    "WHERE \"Victim Category\"=\"Cyclist\" OR \"Victim Category\"=\"Cyclist \"\n",
    "GROUP BY \"Incident Event Type\"\n",
    "ORDER BY Count DESC\n",
    "'''\n",
    "pysqldf(query)"
   ]
  },
  {
   "cell_type": "markdown",
   "id": "9cc00ebb",
   "metadata": {},
   "source": [
    "De acordo com a query, o incidente mais comum com ciclistas é do tipo **Collision Incident** (Colisão)."
   ]
  },
  {
   "cell_type": "markdown",
   "id": "68997211",
   "metadata": {},
   "source": [
    "Desta forma, encerra-se o processo de análise exploratória dos dados apresentados, com a resposta a todas as perguntas levantadas para este projeto.\n",
    "\n",
    "## Fim."
   ]
  }
 ],
 "metadata": {
  "kernelspec": {
   "display_name": "Python 3 (ipykernel)",
   "language": "python",
   "name": "python3"
  },
  "language_info": {
   "codemirror_mode": {
    "name": "ipython",
    "version": 3
   },
   "file_extension": ".py",
   "mimetype": "text/x-python",
   "name": "python",
   "nbconvert_exporter": "python",
   "pygments_lexer": "ipython3",
   "version": "3.11.4"
  }
 },
 "nbformat": 4,
 "nbformat_minor": 5
}
